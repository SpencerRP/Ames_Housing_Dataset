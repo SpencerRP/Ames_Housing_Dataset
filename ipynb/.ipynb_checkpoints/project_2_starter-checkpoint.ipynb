{
 "cells": [
  {
   "cell_type": "markdown",
   "metadata": {},
   "source": [
    "**NOTE:** You probably will see warnings. These are not errors! However, you should read them and try to understand why they're there. Can you fix them?"
   ]
  },
  {
   "cell_type": "markdown",
   "metadata": {},
   "source": [
    "![](http://rentinginla.com/wp-content/uploads/2015/12/Buying.jpg)\n",
    "# [Project 2: Predicting House Prices with Advanced Regression Techniques](https://www.kaggle.com/c/house-prices-advanced-regression-techniques/data)\n",
    "\n",
    "The goal of this project is for you to use EDA, visualization, data cleaning, preprocesing, and linear models to predict home prices given the features of the home, and interpret your linear models to find out what features add value to a home! This project is a bit more open-ended than project 1. \n",
    "\n",
    "Be sure to ...\n",
    "\n",
    "* Think about your choices when it comes to your choices about the data. Be ready to defend your decisions!\n",
    "* Use lots of plots to dig deeper into the data! Describe the plots and convey what you learned from them.\n",
    "* Don't forget to read the [description of the data](../data_description.txt) (also available at the kaggle website)! This has valuable information that will help you clean and impute data. `NaN` means something in many of the columns! Don't just drop or fill them!\n",
    "* Try fitting many models! Document your work and note what you've tried.\n",
    "* Apply what you've learned in class, books, videos, Kaggle forums, and blog posts. There have been a TON of blog posts about this;  you should seek them out and read them!\n",
    "\n",
    "\n",
    "From the Kaggle competition website:\n",
    "\n",
    "    Ask a home buyer to describe their dream house, and they probably won't begin with the height of the basement ceiling or the proximity to an east-west railroad. But this playground competition's dataset proves that much more influences price negotiations than the number of bedrooms or a white-picket fence.\n",
    "\n",
    "    With 79 explanatory variables describing (almost) every aspect of residential homes in Ames, Iowa, this competition challenges you to predict the final price of each home.\n"
   ]
  },
  {
   "cell_type": "code",
   "execution_count": 1,
   "metadata": {},
   "outputs": [],
   "source": [
    "import pandas as pd\n",
    "import numpy as np\n",
    "import matplotlib.pyplot as plt\n",
    "%matplotlib inline\n",
    "\n",
    "import seaborn as sns\n",
    "\n",
    "from IPython.display import display\n",
    "\n",
    "%matplotlib inline \n",
    "np.random.seed(42)"
   ]
  },
  {
   "cell_type": "markdown",
   "metadata": {},
   "source": [
    "## 1. Load the Data "
   ]
  },
  {
   "cell_type": "code",
   "execution_count": 2,
   "metadata": {},
   "outputs": [],
   "source": [
    "data = pd.read_csv('/home/jovyan/Project_2_housing/data/train.csv', na_filter = False)"
   ]
  },
  {
   "cell_type": "markdown",
   "metadata": {},
   "source": [
    "## 2. Exploratory Data Analysis (EDA)"
   ]
  },
  {
   "cell_type": "code",
   "execution_count": 3,
   "metadata": {},
   "outputs": [],
   "source": [
    "categoric_vars = []\n",
    "numeric_vars = []\n",
    "for i in data.columns:\n",
    "    x = set(data[i])\n",
    "    if (data[i].dtypes == 'O') | (len(x) < 20):\n",
    "        categoric_vars.append(i)\n",
    "        #print(i + \": \")\n",
    "        #print(x)\n",
    "    else:\n",
    "        numeric_vars.append(i)\n",
    "        #print(i + \" is numeric.\")\n",
    "\n",
    "numeric_vars.append(categoric_vars[-8])\n",
    "categoric_vars.pop(-8)\n",
    "\n",
    "for i in categoric_vars:\n",
    "    data[i] = data[i].astype(object)"
   ]
  },
  {
   "cell_type": "markdown",
   "metadata": {},
   "source": [
    "### A. Data Types"
   ]
  },
  {
   "cell_type": "code",
   "execution_count": 4,
   "metadata": {},
   "outputs": [],
   "source": [
    "#for i in categoric_vars:\n",
    "    #print(data[i].value_counts())\n",
    "    #print(\"data type is: \" + str(data[i].dtype))"
   ]
  },
  {
   "cell_type": "markdown",
   "metadata": {},
   "source": [
    "Na's in Categorical Features:\n",
    "`Alley` = 1369 NA's, Not App., i.e. accessed by road not alley.\n",
    "`MasVnrType` = 8 NA's, not \"None\" or 'Not App.'\n",
    "`BsmtQual` & `BsmtCond` = 37. NA here = No Basement.\n",
    "`BsmtExposure` = 38 NA's, 953 No. No = None, NA = No Basement. Jump in NA #.\n",
    "`BsmtFinType1` = 37 NA's again, back down. BsmtFinType2 = 38, back up.\n",
    "`Electrical` = 1 NA, no accom.\n",
    "`FireplaceQu` = 690 NA's'; NA here = No Fireplace\n",
    "`GarageType` = 81 NA's, No Garage\n",
    "`GarageFinish`, `GarageQual`, `GarageCond` = 81 NA's'\n",
    "`PoolQC` = 1453 NA's, No Pool\n",
    "`Fence` = 1179 NA's\n",
    "`MiscFeature` = 1406 NA's\n",
    "\n",
    "NA's in Numerical Features:\n",
    "`LotFrontage` : 259 counts; NA implicitly is the result of an NA in the corresponding categorical variable. However, it likely should be imputed into a 0, to signal that there is zero feet of street connected to the property. A similar approach can be found in the PoolArea variable - which for some reason has < 20 unique #'s and thus was categorized as a categorical rather than numeric variable.\n",
    "`MasVnrArea` : 8; NA is the result of a lack of masonry veneer. Due to the relatively low # of NA's, I simply converted them to a 0.\n",
    "`GarageYrBlt` : 81; NA is the result of a lack of a garage (see categoric vars above). Due to the fact that 0 would be an inappropriate year assignment and the left-ward skew of the non-Null values, I imputed the mode.\n",
    "\n",
    "Below, I get convert the NA's in Masonry Veneer Type and Electrical into their mode and 'None' respectively, as these categorical features do not use NA as the standard Null category, unlike the other NA-containing categorical features."
   ]
  },
  {
   "cell_type": "code",
   "execution_count": 5,
   "metadata": {},
   "outputs": [],
   "source": [
    "#A bar plot of the NA's is required later. Thus, I am saving them separately here.\n",
    "na_num_cols = pd.DataFrame()\n",
    "na_num_cols['LotFrontage'] = data['LotFrontage'] == 'NA'\n",
    "na_num_cols['MasVnrArea'] = data['MasVnrArea'] == 'NA'\n",
    "na_num_cols['GarageYrBlt'] = data['GarageYrBlt'] == 'NA'"
   ]
  },
  {
   "cell_type": "code",
   "execution_count": 6,
   "metadata": {},
   "outputs": [],
   "source": [
    "#troublesome_categoric_columns = ['MasVnrType', 'Electrical']\n",
    "emode = data['Electrical'].mode()[0]\n",
    "data['MasVnrType'].replace(to_replace = 'NA', value = 'None', \n",
    "                           inplace = True)\n",
    "data['Electrical'].replace(to_replace = 'NA', value = emode, \n",
    "                           inplace = True)\n",
    "\n",
    "data['Electrical'].mode()[0]\n",
    "\n",
    "#Replacing NA's in following num_cats w/ appropriate number/statistic.\n",
    "#Conversion to numeric necessary due to previous state as string-possessing.\n",
    "\n",
    "#NA of LotFrontage = 0 feet of street connected to property. See PoolArea (cat_var) for similar case.\n",
    "data['LotFrontage'].replace(to_replace = 'NA', value = 0, inplace = True) #NBDConv'd to frontage-type mean?\n",
    "data['LotFrontage'] = pd.to_numeric(data['LotFrontage'])\n",
    "\n",
    "#NA of MVA = 0 feet of mas veneer due to lack of masonry. Converted to 0: only 8 instances.\n",
    "data['MasVnrArea'].replace(to_replace = 'NA', value = 0, inplace = True)\n",
    "data['MasVnrArea'] = pd.to_numeric(data['MasVnrArea'])\n",
    "\n",
    "#NA of GYB = No Garage. Converted to mean due to 0 being an inappropriate date choice.\n",
    "#And current lack of knowledge r.e. finding the mode.\n",
    "data['GarageYrBlt'].replace(to_replace = 'NA', value = np.nan, inplace = True)\n",
    "data['GarageYrBlt'] = pd.to_numeric(data['GarageYrBlt'])#2 year built\n",
    "data['GarageYrBlt'].replace(to_replace = np.nan, value = np.nanmean(data['GarageYrBlt']), inplace = True)\n",
    "data['GarageYrBlt'] = pd.to_numeric(data['GarageYrBlt'])#2 year built"
   ]
  },
  {
   "cell_type": "markdown",
   "metadata": {},
   "source": [
    "### B. Plot histograms of the numeric columns. "
   ]
  },
  {
   "cell_type": "code",
   "execution_count": 7,
   "metadata": {},
   "outputs": [],
   "source": [
    "def hist_plot(data = data, col_list = numeric_vars[1:]):\n",
    "    plt.style.use('seaborn-colorblind'); count = 0;\n",
    "    fig, axes = plt.subplots(nrows= 4,ncols= int(len(col_list)/4), figsize= (35, 40)) #4by#5\n",
    "    for row in range(axes.shape[0]):\n",
    "        for col in range(axes.shape[1]):\n",
    "            i = col_list[count]; count += 1;\n",
    "            ax = axes[row][col]\n",
    "            ax.hist(data[i])\n",
    "            ax.set_xlabel(i)\n",
    "    fig.show()\n",
    "#hist_plot()"
   ]
  },
  {
   "cell_type": "markdown",
   "metadata": {},
   "source": [
    "#### Observations:\n",
    "\n",
    "---\n",
    "Most of the numeric columns tend to hug the left side and skew to the right.\n",
    "Only YrBuilt, YrRemodAdd, and the year the garage was built tend to hug the right side. \n",
    "\n",
    "The year-builts tend to diminish steadily as they skew left (i.e., there are fewer older houses than younger houses at most every level). Year Remod Added, however, vaguely has a slump in the middle but then peaks again on the left.\n",
    "\n",
    "LotArea is nearly a tower, with only a small amount of houses having larger land.\n",
    "The same goes for BsmtFinSF2, and the various porch columns. These have a slightly stronger rightward skew, however.\n",
    "\n",
    "GarageArea is the only column with a near-normal bellcurve shape.\n"
   ]
  },
  {
   "cell_type": "markdown",
   "metadata": {},
   "source": [
    "### C. Plot the Numeric Columns Against `SalePrice` using scatter plots."
   ]
  },
  {
   "cell_type": "code",
   "execution_count": 8,
   "metadata": {},
   "outputs": [],
   "source": [
    "def scatter_plot(data = data, col_list = numeric_vars):\n",
    "    plt.style.use('seaborn-colorblind'); count = 0;\n",
    "    fig, axes = plt.subplots(nrows= 4,ncols= int(len(col_list)/4), figsize= (35, 40)) #4by#5\n",
    "    for row in range(axes.shape[0]):\n",
    "        for col in range(axes.shape[1]):\n",
    "            i = col_list[count]; count += 1;\n",
    "            ax = axes[row][col]\n",
    "            ax.scatter(data[i], data['SalePrice'])\n",
    "            ax.set_xlabel(i)\n",
    "            ax.set_ylabel('SalePrice')\n",
    "    fig.show()\n",
    "#scatter_plot()"
   ]
  },
  {
   "cell_type": "markdown",
   "metadata": {},
   "source": [
    "#### Observations:\n",
    "\n",
    "---\n",
    "Things generally tend toward a bottom-left -> top-right trend.\n"
   ]
  },
  {
   "cell_type": "markdown",
   "metadata": {},
   "source": [
    "### D. Use bar plots to plot categorical features against `SalePrice`."
   ]
  },
  {
   "cell_type": "code",
   "execution_count": 9,
   "metadata": {},
   "outputs": [],
   "source": [
    "def bar_plot(data = data, col_list = categoric_vars, target = 'SalePrice'):\n",
    "    plt.style.use('seaborn-colorblind'); count = 0;\n",
    "    fig, axes = plt.subplots(nrows= 6,ncols= int(len(col_list)/6), figsize= (60, 100)) #4by#5\n",
    "    for row in range(axes.shape[0]):\n",
    "        for col in range(axes.shape[1]):\n",
    "            i = col_list[count]; count += 1;\n",
    "            ax = axes[row][col]\n",
    "            x = data.groupby(i)[target]\n",
    "            x.mean().plot.bar(yerr = x.std(), ax = ax)\n",
    "            ax.set_xlabel(i)\n",
    "            ax.set_ylabel(target)\n",
    "    fig.show()\n",
    "#bar_plot()"
   ]
  },
  {
   "cell_type": "markdown",
   "metadata": {},
   "source": [
    "#### Observations:\n",
    "\n",
    "---\n",
    "\n"
   ]
  },
  {
   "cell_type": "markdown",
   "metadata": {},
   "source": [
    "## 3. Preprocessing"
   ]
  },
  {
   "cell_type": "markdown",
   "metadata": {},
   "source": [
    "### A. Identify and Remove Outliers for `SalePrice`"
   ]
  },
  {
   "cell_type": "code",
   "execution_count": 10,
   "metadata": {},
   "outputs": [
    {
     "name": "stdout",
     "output_type": "stream",
     "text": [
      "3937.5 129975.0 214000.0 508087.5 755000 163000.0\n"
     ]
    },
    {
     "data": {
      "image/png": "[encoded data removed]",
      "text/plain": [
       "<matplotlib.figure.Figure at 0x7fb7d707a5c0>"
      ]
     },
     "metadata": {},
     "output_type": "display_data"
    }
   ],
   "source": [
    "q75, q25 = np.percentile(data['SalePrice'], [75 ,25])\n",
    "iqr = q75 - q25\n",
    "fence1 = q25 - iqr*1.5\n",
    "fence2 = q75 + iqr*3.5\n",
    "\n",
    "data['SalePrice'].hist(bins = int(np.sqrt(len(data['SalePrice']))))\n",
    "plt.axvline(q25, color = 'r', \\\n",
    "            linestyle = 'dashed', linewidth = 2)\n",
    "plt.axvline(q75, color = 'r', \\\n",
    "            linestyle = 'dashed', linewidth = 2)\n",
    "plt.axvline(fence1, color = 'g', \\\n",
    "            linestyle = 'dashed', linewidth = 2)\n",
    "plt.axvline(fence2, color = 'g', \\\n",
    "            linestyle = 'dashed', linewidth = 2)\n",
    "plt.axvline(np.median(data['SalePrice']), color = 'yellow', \\\n",
    "            linestyle = 'solid', linewidth = 4)\n",
    "print(fence1, q25, q75, fence2, data['SalePrice'].max(), data['SalePrice'].median())"
   ]
  },
  {
   "cell_type": "markdown",
   "metadata": {},
   "source": [
    "Based on the natural right-ward skew of the histogram and the way that a fairly large amount of data would become labeled as an outlier by Tukey's method, I feel that using it to determine outliers is inappropriate for this feature.\n",
    "\n",
    "I thought of doing a KNN Classifier to determine outliers at some point, but ended up giving up on the idea. So, eyeballing things, the right fencepost for what can be considered an outlier need to be around 2 times more to the right to account for this feature's rightward skew. So I'll multiply that side by 3.5 rather than 1.5."
   ]
  },
  {
   "cell_type": "code",
   "execution_count": 11,
   "metadata": {},
   "outputs": [
    {
     "name": "stdout",
     "output_type": "stream",
     "text": [
      "As we can see here, this leaves approximately 8 points outside of our bounds, and thus marked outliers.\n"
     ]
    }
   ],
   "source": [
    "SP_outlier_mask = (q25 - iqr*1.5 < data['SalePrice']) \\\n",
    "& (data['SalePrice'] < q75 + iqr*3.5)\n",
    "print('As we can see here, this leaves approximately ' + str(sum(-SP_outlier_mask)) +\\\n",
    "' points outside of our bounds, and thus marked outliers.')"
   ]
  },
  {
   "cell_type": "code",
   "execution_count": 12,
   "metadata": {},
   "outputs": [
    {
     "data": {
      "text/plain": [
       "440     162700\n",
       "691     162700\n",
       "769     162700\n",
       "803     162700\n",
       "898     162700\n",
       "1046    162700\n",
       "1169    162700\n",
       "1182    162700\n",
       "Name: SalePrice, dtype: int64"
      ]
     },
     "execution_count": 12,
     "metadata": {},
     "output_type": "execute_result"
    }
   ],
   "source": [
    "data['SalePrice'].mask(-SP_outlier_mask, data[SP_outlier_mask]['SalePrice'].median(),\\\n",
    "                       inplace = True)\n",
    "data[-SP_outlier_mask]['SalePrice']"
   ]
  },
  {
   "cell_type": "markdown",
   "metadata": {},
   "source": [
    "I chose to replace these outlier values with the median saleprice in order to retain the data.\n",
    "\n",
    "The median was chosen due to the skew of the feature."
   ]
  },
  {
   "cell_type": "markdown",
   "metadata": {},
   "source": [
    "### B. Fill missing data!\n",
    "  "
   ]
  },
  {
   "cell_type": "markdown",
   "metadata": {
    "collapsed": true
   },
   "source": [
    "Categorical_variables\n",
    "`Alley` = 1369 NA's, Not App., i.e. accessed by road not alley.\n",
    "`MasVnrType` = 8 NA's, not \"None\" or 'Not App.'\n",
    "`BsmtQual` & `BsmtCond` = 37. NA here = No Basement.\n",
    "`BsmtExposure` = 38 NA's, 953 No. No = None, NA = No Basement. Jump in NA #.\n",
    "`BsmtFinType1` = 37 NA's again, back down. BsmtFinType2 = 38, back up.\n",
    "`Electrical` = 1 NA, no accom.\n",
    "`FireplaceQu` = 690 NA's'; NA here = No Fireplace\n",
    "`GarageType` = 81 NA's, No Garage\n",
    "`GarageFinish`, `GarageQual`, `GarageCond` = 81 NA's'\n",
    "`PoolQC` = 1453 NA's, No Pool\n",
    "`Fence` = 1179 NA's\n",
    "`MiscFeature` = 1406 NA's\n",
    "\n",
    "#Numeric_variables w/ NA's\n",
    "`LotFrontage` : 259 counts; NA implicitly is the result of an NA in the corresponding categorical variable. However, it likely should be imputed into a 0, to signal that there is zero feet of street connected to the property. A similar approach can be found in the PoolArea variable - which for some reason has < 20 unique #'s and thus was categorized as a categorical rather than numeric variable.\n",
    "`MasVnrArea` : 8; NA is the result of a lack of masonry veneer. Due to the relatively low # of NA's, I simply converted them to a 0.\n",
    "`GarageYrBlt` : 81; NA is the result of a lack of a garage (see categoric vars above). Due to the fact that 0 would be an inappropriate year assignment and the left-ward skew of the non-Null values, I imputed the mode."
   ]
  },
  {
   "cell_type": "code",
   "execution_count": 13,
   "metadata": {},
   "outputs": [
    {
     "name": "stderr",
     "output_type": "stream",
     "text": [
      "/opt/conda/lib/python3.6/site-packages/matplotlib/figure.py:403: UserWarning: matplotlib is currently using a non-GUI backend, so cannot show the figure\n",
      "  \"matplotlib is currently using a non-GUI backend, \"\n"
     ]
    },
    {
     "data": {
      "image/png": "[encoded data removed]",
      "text/plain": [
       "<matplotlib.figure.Figure at 0x7fb7dfb87860>"
      ]
     },
     "metadata": {},
     "output_type": "display_data"
    }
   ],
   "source": [
    "na_num_cols.hist #True = 'NA', False = !'NA'\n",
    "\n",
    "plt.style.use('seaborn-colorblind'); count = 0;\n",
    "fig, axes = plt.subplots(nrows= 3, figsize= (10, 10))\n",
    "for col in range(axes.shape[0]):\n",
    "    i = na_num_cols.columns[count]; count += 1;\n",
    "    ax = axes[col]\n",
    "    ax.hist(na_num_cols[i], bins = 2)\n",
    "    ax.set_xlabel(i)\n",
    "fig.tight_layout()\n",
    "fig.show()"
   ]
  },
  {
   "cell_type": "code",
   "execution_count": 14,
   "metadata": {},
   "outputs": [],
   "source": [
    "#troublesome_categoric_columns = ['MasVnrType', 'Electrical']\n",
    "emode = data['Electrical'].mode()[0]\n",
    "data['MasVnrType'].replace(to_replace = 'NA', value = 'None', \n",
    "                           inplace = True)\n",
    "data['Electrical'].replace(to_replace = 'NA', value = emode, \n",
    "                           inplace = True)\n",
    "\n",
    "data['Electrical'].mode()[0]\n",
    "\n",
    "#Replacing NA's in following num_cats w/ appropriate number/statistic.\n",
    "#Conversion to numeric necessary due to previous state as string-possessing.\n",
    "\n",
    "#NA of LotFrontage = 0 feet of street connected to property. See PoolArea (cat_var) for similar case.\n",
    "data['LotFrontage'].replace(to_replace = 'NA', value = 0, inplace = True) #NBDConv'd to frontage-type mean?\n",
    "data['LotFrontage'] = pd.to_numeric(data['LotFrontage'])\n",
    "\n",
    "#NA of MVA = 0 feet of mas veneer due to lack of masonry. Converted to 0: only 8 instances.\n",
    "data['MasVnrArea'].replace(to_replace = 'NA', value = 0, inplace = True)\n",
    "data['MasVnrArea'] = pd.to_numeric(data['MasVnrArea'])\n",
    "\n",
    "#NA of GYB = No Garage. Converted to mean due to 0 being an inappropriate date choice.\n",
    "#And current lack of knowledge r.e. finding the mode.\n",
    "data['GarageYrBlt'].replace(to_replace = 'NA', value = np.nan, inplace = True)\n",
    "data['GarageYrBlt'] = pd.to_numeric(data['GarageYrBlt'])#2 year built\n",
    "data['GarageYrBlt'].replace(to_replace = np.nan, value = np.nanmean(data['GarageYrBlt']), inplace = True)\n",
    "data['GarageYrBlt'] = pd.to_numeric(data['GarageYrBlt'])#2 year built"
   ]
  },
  {
   "cell_type": "code",
   "execution_count": 15,
   "metadata": {},
   "outputs": [
    {
     "data": {
      "text/plain": [
       "True"
      ]
     },
     "execution_count": 15,
     "metadata": {},
     "output_type": "execute_result"
    }
   ],
   "source": [
    "all(data.isnull() == False)"
   ]
  },
  {
   "cell_type": "markdown",
   "metadata": {},
   "source": [
    "### C. Create dummy variables for categorical columns"
   ]
  },
  {
   "cell_type": "code",
   "execution_count": 16,
   "metadata": {},
   "outputs": [
    {
     "data": {
      "text/plain": [
       "(1460, 388)"
      ]
     },
     "execution_count": 16,
     "metadata": {},
     "output_type": "execute_result"
    }
   ],
   "source": [
    "df = pd.get_dummies(data)\n",
    "df.shape"
   ]
  },
  {
   "cell_type": "code",
   "execution_count": 17,
   "metadata": {},
   "outputs": [
    {
     "data": {
      "text/plain": [
       "(1460, 81)"
      ]
     },
     "execution_count": 17,
     "metadata": {},
     "output_type": "execute_result"
    }
   ],
   "source": [
    "data.shape"
   ]
  },
  {
   "cell_type": "markdown",
   "metadata": {},
   "source": [
    "### D. Split your data into a train and test set."
   ]
  },
  {
   "cell_type": "code",
   "execution_count": 18,
   "metadata": {},
   "outputs": [],
   "source": [
    "from sklearn.model_selection import train_test_split"
   ]
  },
  {
   "cell_type": "code",
   "execution_count": 19,
   "metadata": {},
   "outputs": [],
   "source": [
    "y = df['SalePrice']\n",
    "X = df.drop('SalePrice', axis = 1)"
   ]
  },
  {
   "cell_type": "code",
   "execution_count": 20,
   "metadata": {},
   "outputs": [],
   "source": [
    "X_train, X_test, y_train, y_test = train_test_split(X, y, test_size = .1, random_state = 42)"
   ]
  },
  {
   "cell_type": "code",
   "execution_count": 21,
   "metadata": {},
   "outputs": [
    {
     "data": {
      "text/plain": [
       "(False, False, False)"
      ]
     },
     "execution_count": 21,
     "metadata": {},
     "output_type": "execute_result"
    }
   ],
   "source": [
    "'SalePrice' in y_train, 'SalePrice' in X_train, 'SalePrice' in X"
   ]
  },
  {
   "cell_type": "markdown",
   "metadata": {},
   "source": [
    "### E. Scale the data"
   ]
  },
  {
   "cell_type": "code",
   "execution_count": 22,
   "metadata": {},
   "outputs": [],
   "source": [
    "from sklearn.preprocessing import StandardScaler"
   ]
  },
  {
   "cell_type": "code",
   "execution_count": 23,
   "metadata": {},
   "outputs": [],
   "source": [
    "scaler = StandardScaler()\n",
    "X_train_scaled = scaler.fit_transform(X_train)\n",
    "X_test_scaled = scaler.transform(X_test)"
   ]
  },
  {
   "cell_type": "code",
   "execution_count": 24,
   "metadata": {},
   "outputs": [
    {
     "data": {
      "text/plain": [
       "((1460, 81), (1460, 388), (1314, 387), (1314,), (146, 387), (146,))"
      ]
     },
     "execution_count": 24,
     "metadata": {},
     "output_type": "execute_result"
    }
   ],
   "source": [
    "data.shape, df.shape, X_train_scaled.shape, y_train.shape, X_test_scaled.shape, y_test.shape"
   ]
  },
  {
   "cell_type": "markdown",
   "metadata": {},
   "source": [
    "## 4. Modeling"
   ]
  },
  {
   "cell_type": "markdown",
   "metadata": {},
   "source": [
    "### A. Benchmarking"
   ]
  },
  {
   "cell_type": "code",
   "execution_count": 25,
   "metadata": {},
   "outputs": [],
   "source": [
    "from sklearn.linear_model import LinearRegression"
   ]
  },
  {
   "cell_type": "code",
   "execution_count": 26,
   "metadata": {},
   "outputs": [],
   "source": [
    "results = list()"
   ]
  },
  {
   "cell_type": "markdown",
   "metadata": {},
   "source": [
    "#### Raw Benchmark"
   ]
  },
  {
   "cell_type": "markdown",
   "metadata": {},
   "source": [
    "Instantiate a new `LinearRegression` model and save it as `benchmark_raw`."
   ]
  },
  {
   "cell_type": "code",
   "execution_count": 27,
   "metadata": {},
   "outputs": [],
   "source": [
    "def pseudo_pipeline(name = 'benchmark', model = LinearRegression(),\\\n",
    "                    X_train = X_train, y_train = y_train, \\\n",
    "                    X_test = X_test, y_test = y_test, \\\n",
    "                    scaler = StandardScaler(), results = results):\n",
    "    \n",
    "    X_train_scaled = scaler.fit_transform(X_train)\n",
    "    X_test_scaled = scaler.transform(X_test)\n",
    "\n",
    "    model.fit(X_train, y_train)\n",
    "    raw_train_score = model.score(X_train, y_train)\n",
    "    raw_test_score = model.score(X_test, y_test)\n",
    "    \n",
    "    model_scaled = model.fit(X_train_scaled, y_train)\n",
    "    scaled_train_score = model_scaled.score(X_train_scaled, y_train)\n",
    "    scaled_test_score = model_scaled.score(X_test_scaled, y_test)\n",
    "    \n",
    "    results.append({'name': name,\n",
    "                'model': model,\n",
    "                'dataset' : 'train',\n",
    "                'preprocessing': 'raw',\n",
    "                'score': raw_train_score})\n",
    "    results.append({'name': name,\n",
    "                'model': model,\n",
    "                'dataset' : 'test',\n",
    "                'preprocessing': 'raw',\n",
    "                'score': raw_test_score})\n",
    "    results.append({'name': name,\n",
    "                'model': model,\n",
    "                'dataset' : 'train',\n",
    "                'preprocessing': 'scaled',\n",
    "                'score': scaled_train_score})\n",
    "    results.append({'name': name,\n",
    "                'model': model,\n",
    "                'dataset' : 'test',\n",
    "                'preprocessing': 'scaled',\n",
    "                'score': scaled_test_score})\n",
    "    return results, model, model_scaled\n",
    "#results, model, model_scaled = pseudo_pipeline()"
   ]
  },
  {
   "cell_type": "code",
   "execution_count": 28,
   "metadata": {},
   "outputs": [],
   "source": [
    "benchmark_raw = LinearRegression()"
   ]
  },
  {
   "cell_type": "code",
   "execution_count": 29,
   "metadata": {},
   "outputs": [],
   "source": [
    "benchmark_raw.fit(X_train, y_train)\n",
    "raw_train_score = benchmark_raw.score(X_train, y_train)\n",
    "raw_test_score = benchmark_raw.score(X_test, y_test)\n",
    "\n",
    "results.append({'name':'benchmark',\n",
    "                'model':benchmark_raw,\n",
    "                'dataset' : 'train',\n",
    "                'preprocessing': 'raw',\n",
    "                'score': raw_train_score})\n",
    "results.append({'name':'benchmark',\n",
    "                'model':benchmark_raw,\n",
    "                'dataset' : 'test',\n",
    "                'preprocessing': 'raw',\n",
    "                'score': raw_test_score})"
   ]
  },
  {
   "cell_type": "code",
   "execution_count": 30,
   "metadata": {},
   "outputs": [
    {
     "data": {
      "text/plain": [
       "354055.90425392112"
      ]
     },
     "execution_count": 30,
     "metadata": {},
     "output_type": "execute_result"
    }
   ],
   "source": [
    "np.abs(benchmark_raw.coef_).max()"
   ]
  },
  {
   "cell_type": "markdown",
   "metadata": {},
   "source": [
    "#### Scaled Benchmark"
   ]
  },
  {
   "cell_type": "code",
   "execution_count": 31,
   "metadata": {},
   "outputs": [],
   "source": [
    "benchmark_scaled = LinearRegression()"
   ]
  },
  {
   "cell_type": "code",
   "execution_count": 32,
   "metadata": {},
   "outputs": [],
   "source": [
    "benchmark_scaled.fit(X_train_scaled, y_train)\n",
    "scaled_train_score = benchmark_scaled.score(X_train_scaled, y_train)\n",
    "scaled_test_score = benchmark_scaled.score(X_test_scaled, y_test)\n",
    "\n",
    "results.append({'name':'benchmark',\n",
    "                'model':benchmark_scaled,\n",
    "                'dataset' : 'train',\n",
    "                'preprocessing': 'scaled',\n",
    "                'score': scaled_train_score})\n",
    "results.append({'name':'benchmark',\n",
    "                'model':benchmark_scaled,\n",
    "                'dataset' : 'test',\n",
    "                'preprocessing': 'scaled',\n",
    "                'score': scaled_test_score})"
   ]
  },
  {
   "cell_type": "code",
   "execution_count": 64,
   "metadata": {},
   "outputs": [
    {
     "data": {
      "text/plain": [
       "[{'dataset': 'train',\n",
       "  'model': LinearRegression(copy_X=True, fit_intercept=True, n_jobs=1, normalize=False),\n",
       "  'name': 'benchmark',\n",
       "  'preprocessing': 'raw',\n",
       "  'score': 0.91423359392587056},\n",
       " {'dataset': 'test',\n",
       "  'model': LinearRegression(copy_X=True, fit_intercept=True, n_jobs=1, normalize=False),\n",
       "  'name': 'benchmark',\n",
       "  'preprocessing': 'raw',\n",
       "  'score': 0.68281732503287451},\n",
       " {'dataset': 'train',\n",
       "  'model': LinearRegression(copy_X=True, fit_intercept=True, n_jobs=1, normalize=False),\n",
       "  'name': 'benchmark',\n",
       "  'preprocessing': 'scaled',\n",
       "  'score': 0.91337039026362055},\n",
       " {'dataset': 'test',\n",
       "  'model': LinearRegression(copy_X=True, fit_intercept=True, n_jobs=1, normalize=False),\n",
       "  'name': 'benchmark',\n",
       "  'preprocessing': 'scaled',\n",
       "  'score': -2.3180874962681509e+24},\n",
       " {'dataset': 'train',\n",
       "  'model': Ridge(alpha=1.0, copy_X=True, fit_intercept=True, max_iter=None,\n",
       "     normalize=False, random_state=None, solver='auto', tol=0.001),\n",
       "  'name': 'ridge',\n",
       "  'preprocessing': 'raw',\n",
       "  'score': 0.90348650242485795},\n",
       " {'dataset': 'test',\n",
       "  'model': Ridge(alpha=1.0, copy_X=True, fit_intercept=True, max_iter=None,\n",
       "     normalize=False, random_state=None, solver='auto', tol=0.001),\n",
       "  'name': 'ridge',\n",
       "  'preprocessing': 'raw',\n",
       "  'score': 0.69792612221052708},\n",
       " {'dataset': 'train',\n",
       "  'model': Ridge(alpha=1.0, copy_X=True, fit_intercept=True, max_iter=None,\n",
       "     normalize=False, random_state=None, solver='auto', tol=0.001),\n",
       "  'name': 'ridge',\n",
       "  'preprocessing': 'scaled',\n",
       "  'score': 0.91422632011868477},\n",
       " {'dataset': 'test',\n",
       "  'model': Ridge(alpha=1.0, copy_X=True, fit_intercept=True, max_iter=None,\n",
       "     normalize=False, random_state=None, solver='auto', tol=0.001),\n",
       "  'name': 'ridge',\n",
       "  'preprocessing': 'scaled',\n",
       "  'score': 0.68361368262335775},\n",
       " {'dataset': 'train',\n",
       "  'model': Lasso(alpha=1.0, copy_X=True, fit_intercept=True, max_iter=1000,\n",
       "     normalize=False, positive=False, precompute=False, random_state=None,\n",
       "     selection='cyclic', tol=0.0001, warm_start=False),\n",
       "  'name': 'lasso',\n",
       "  'preprocessing': 'raw',\n",
       "  'score': 0.91418199512578024},\n",
       " {'dataset': 'test',\n",
       "  'model': Lasso(alpha=1.0, copy_X=True, fit_intercept=True, max_iter=1000,\n",
       "     normalize=False, positive=False, precompute=False, random_state=None,\n",
       "     selection='cyclic', tol=0.0001, warm_start=False),\n",
       "  'name': 'lasso',\n",
       "  'preprocessing': 'raw',\n",
       "  'score': 0.6850200630826242},\n",
       " {'dataset': 'train',\n",
       "  'model': Lasso(alpha=1.0, copy_X=True, fit_intercept=True, max_iter=1000,\n",
       "     normalize=False, positive=False, precompute=False, random_state=None,\n",
       "     selection='cyclic', tol=0.0001, warm_start=False),\n",
       "  'name': 'lasso',\n",
       "  'preprocessing': 'scaled',\n",
       "  'score': 0.91423259353648556},\n",
       " {'dataset': 'test',\n",
       "  'model': Lasso(alpha=1.0, copy_X=True, fit_intercept=True, max_iter=1000,\n",
       "     normalize=False, positive=False, precompute=False, random_state=None,\n",
       "     selection='cyclic', tol=0.0001, warm_start=False),\n",
       "  'name': 'lasso',\n",
       "  'preprocessing': 'scaled',\n",
       "  'score': 0.68360224725492269},\n",
       " {'dataset': 'train',\n",
       "  'model': ElasticNet(alpha=1.0, copy_X=True, fit_intercept=True, l1_ratio=0.5,\n",
       "        max_iter=1000, normalize=False, positive=False, precompute=False,\n",
       "        random_state=None, selection='cyclic', tol=0.0001, warm_start=False),\n",
       "  'name': 'en',\n",
       "  'preprocessing': 'raw',\n",
       "  'score': 0.78271382215839647},\n",
       " {'dataset': 'test',\n",
       "  'model': ElasticNet(alpha=1.0, copy_X=True, fit_intercept=True, l1_ratio=0.5,\n",
       "        max_iter=1000, normalize=False, positive=False, precompute=False,\n",
       "        random_state=None, selection='cyclic', tol=0.0001, warm_start=False),\n",
       "  'name': 'en',\n",
       "  'preprocessing': 'raw',\n",
       "  'score': 0.75009388457345816},\n",
       " {'dataset': 'train',\n",
       "  'model': ElasticNet(alpha=1.0, copy_X=True, fit_intercept=True, l1_ratio=0.5,\n",
       "        max_iter=1000, normalize=False, positive=False, precompute=False,\n",
       "        random_state=None, selection='cyclic', tol=0.0001, warm_start=False),\n",
       "  'name': 'en',\n",
       "  'preprocessing': 'scaled',\n",
       "  'score': 0.88607395641314191},\n",
       " {'dataset': 'test',\n",
       "  'model': ElasticNet(alpha=1.0, copy_X=True, fit_intercept=True, l1_ratio=0.5,\n",
       "        max_iter=1000, normalize=False, positive=False, precompute=False,\n",
       "        random_state=None, selection='cyclic', tol=0.0001, warm_start=False),\n",
       "  'name': 'en',\n",
       "  'preprocessing': 'scaled',\n",
       "  'score': 0.72573638809483221}]"
      ]
     },
     "execution_count": 64,
     "metadata": {},
     "output_type": "execute_result"
    }
   ],
   "source": [
    "results"
   ]
  },
  {
   "cell_type": "markdown",
   "metadata": {},
   "source": [
    "#### What are your observations? Add them to this markdown cell.\n",
    "\n",
    "\n",
    "It does much better on the training data. The last score is negative, which means it's exceedingly bad.\n",
    "\n",
    "I had a similar issue later on in this project, but that was due to predicting scaled data using a model fit to unscaled data. Since that score was predicted using a model fit to scaled data, I have no idea why it occurred."
   ]
  },
  {
   "cell_type": "markdown",
   "metadata": {},
   "source": [
    "### B. Naive Regularization\n",
    "\n",
    "Next, prepare a series of fits using the three regularized linear regression models with their default settings against both the raw and the scaled data.\n",
    "**NOTE:** By \"naive\" we mean using all of the default settings."
   ]
  },
  {
   "cell_type": "code",
   "execution_count": 33,
   "metadata": {},
   "outputs": [],
   "source": [
    "from sklearn.linear_model import Ridge, Lasso, ElasticNet, LinearRegression, RidgeCV, LassoCV, ElasticNetCV\n",
    "from sklearn.model_selection import cross_val_score"
   ]
  },
  {
   "cell_type": "code",
   "execution_count": 34,
   "metadata": {},
   "outputs": [],
   "source": [
    "ridge = Ridge()\n",
    "ridge.fit(X_train, y_train)\n",
    "scaled_ridge = Ridge()\n",
    "scaled_ridge.fit(X_train_scaled, y_train)\n",
    "\n",
    "results.append({'name':'ridge',\n",
    "                'model':ridge,\n",
    "                'dataset' : 'train',\n",
    "                'preprocessing': 'raw',\n",
    "                'score': ridge.score(X_train, y_train)})\n",
    "results.append({'name':'ridge',\n",
    "                'model':ridge,\n",
    "                'dataset' : 'test',\n",
    "                'preprocessing': 'raw',\n",
    "                'score': ridge.score(X_test, y_test)})\n",
    "results.append({'name':'ridge',\n",
    "                'model':scaled_ridge,\n",
    "                'dataset' : 'train',\n",
    "                'preprocessing': 'scaled',\n",
    "                'score': scaled_ridge.score(X_train_scaled, y_train)})\n",
    "results.append({'name':'ridge',\n",
    "                'model':scaled_ridge,\n",
    "                'dataset' : 'test',\n",
    "                'preprocessing': 'scaled',\n",
    "                'score': scaled_ridge.score(X_test_scaled, y_test)})"
   ]
  },
  {
   "cell_type": "code",
   "execution_count": 35,
   "metadata": {},
   "outputs": [
    {
     "name": "stderr",
     "output_type": "stream",
     "text": [
      "/opt/conda/lib/python3.6/site-packages/sklearn/linear_model/coordinate_descent.py:484: ConvergenceWarning: Objective did not converge. You might want to increase the number of iterations. Fitting data with very small alpha may cause precision problems.\n",
      "  ConvergenceWarning)\n"
     ]
    }
   ],
   "source": [
    "lasso = Lasso()\n",
    "lasso.fit(X_train, y_train)\n",
    "scaled_lasso = Lasso()\n",
    "scaled_lasso.fit(X_train_scaled, y_train)\n",
    "\n",
    "results.append({'name':'lasso',\n",
    "                'model':lasso,\n",
    "                'dataset' : 'train',\n",
    "                'preprocessing': 'raw',\n",
    "                'score': lasso.score(X_train, y_train)})\n",
    "results.append({'name':'lasso',\n",
    "                'model':lasso,\n",
    "                'dataset' : 'test',\n",
    "                'preprocessing': 'raw',\n",
    "                'score': lasso.score(X_test, y_test)})\n",
    "results.append({'name':'lasso',\n",
    "                'model':scaled_lasso,\n",
    "                'dataset' : 'train',\n",
    "                'preprocessing': 'scaled',\n",
    "                'score': scaled_lasso.score(X_train_scaled, y_train)})\n",
    "results.append({'name':'lasso',\n",
    "                'model':scaled_lasso,\n",
    "                'dataset' : 'test',\n",
    "                'preprocessing': 'scaled',\n",
    "                'score': scaled_lasso.score(X_test_scaled, y_test)})"
   ]
  },
  {
   "cell_type": "code",
   "execution_count": 36,
   "metadata": {},
   "outputs": [
    {
     "name": "stderr",
     "output_type": "stream",
     "text": [
      "/opt/conda/lib/python3.6/site-packages/sklearn/linear_model/coordinate_descent.py:484: ConvergenceWarning: Objective did not converge. You might want to increase the number of iterations. Fitting data with very small alpha may cause precision problems.\n",
      "  ConvergenceWarning)\n"
     ]
    }
   ],
   "source": [
    "en = ElasticNet()\n",
    "en.fit(X_train, y_train)\n",
    "scaled_en = ElasticNet()\n",
    "scaled_en.fit(X_train_scaled, y_train)\n",
    "\n",
    "results.append({'name':'en',\n",
    "                'model':en,\n",
    "                'dataset' : 'train',\n",
    "                'preprocessing': 'raw',\n",
    "                'score': en.score(X_train, y_train)})\n",
    "results.append({'name':'en',\n",
    "                'model':en,\n",
    "                'dataset' : 'test',\n",
    "                'preprocessing': 'raw',\n",
    "                'score': en.score(X_test, y_test)})\n",
    "results.append({'name':'en',\n",
    "                'model':scaled_en,\n",
    "                'dataset' : 'train',\n",
    "                'preprocessing': 'scaled',\n",
    "                'score': scaled_en.score(X_train_scaled, y_train)})\n",
    "results.append({'name':'en',\n",
    "                'model':scaled_en,\n",
    "                'dataset' : 'test',\n",
    "                'preprocessing': 'scaled',\n",
    "                'score': scaled_en.score(X_test_scaled, y_test)})"
   ]
  },
  {
   "cell_type": "markdown",
   "metadata": {},
   "source": [
    "Note that we see warnings here. As we are in an exploration phase with our model, this is acceptable."
   ]
  },
  {
   "cell_type": "markdown",
   "metadata": {},
   "source": [
    "Use a DataFrame to store your `results` as `results_df`. By this we mean, save the `results` list into a new dataframe so that you can manipulate the DataFrame."
   ]
  },
  {
   "cell_type": "code",
   "execution_count": 37,
   "metadata": {},
   "outputs": [],
   "source": [
    "results_df = pd.DataFrame(results)"
   ]
  },
  {
   "cell_type": "markdown",
   "metadata": {},
   "source": [
    "#### Display just the raw test results using pandas"
   ]
  },
  {
   "cell_type": "code",
   "execution_count": 38,
   "metadata": {},
   "outputs": [
    {
     "data": {
      "text/html": [
       "<div>\n",
       "<table border=\"1\" class=\"dataframe\">\n",
       "  <thead>\n",
       "    <tr style=\"text-align: right;\">\n",
       "      <th></th>\n",
       "      <th>dataset</th>\n",
       "      <th>model</th>\n",
       "      <th>name</th>\n",
       "      <th>preprocessing</th>\n",
       "      <th>score</th>\n",
       "    </tr>\n",
       "  </thead>\n",
       "  <tbody>\n",
       "    <tr>\n",
       "      <th>0</th>\n",
       "      <td>train</td>\n",
       "      <td>LinearRegression(copy_X=True, fit_intercept=Tr...</td>\n",
       "      <td>benchmark</td>\n",
       "      <td>raw</td>\n",
       "      <td>0.914234</td>\n",
       "    </tr>\n",
       "    <tr>\n",
       "      <th>1</th>\n",
       "      <td>test</td>\n",
       "      <td>LinearRegression(copy_X=True, fit_intercept=Tr...</td>\n",
       "      <td>benchmark</td>\n",
       "      <td>raw</td>\n",
       "      <td>0.682817</td>\n",
       "    </tr>\n",
       "    <tr>\n",
       "      <th>4</th>\n",
       "      <td>train</td>\n",
       "      <td>Ridge(alpha=1.0, copy_X=True, fit_intercept=Tr...</td>\n",
       "      <td>ridge</td>\n",
       "      <td>raw</td>\n",
       "      <td>0.903487</td>\n",
       "    </tr>\n",
       "    <tr>\n",
       "      <th>5</th>\n",
       "      <td>test</td>\n",
       "      <td>Ridge(alpha=1.0, copy_X=True, fit_intercept=Tr...</td>\n",
       "      <td>ridge</td>\n",
       "      <td>raw</td>\n",
       "      <td>0.697926</td>\n",
       "    </tr>\n",
       "    <tr>\n",
       "      <th>8</th>\n",
       "      <td>train</td>\n",
       "      <td>Lasso(alpha=1.0, copy_X=True, fit_intercept=Tr...</td>\n",
       "      <td>lasso</td>\n",
       "      <td>raw</td>\n",
       "      <td>0.914182</td>\n",
       "    </tr>\n",
       "    <tr>\n",
       "      <th>9</th>\n",
       "      <td>test</td>\n",
       "      <td>Lasso(alpha=1.0, copy_X=True, fit_intercept=Tr...</td>\n",
       "      <td>lasso</td>\n",
       "      <td>raw</td>\n",
       "      <td>0.685020</td>\n",
       "    </tr>\n",
       "    <tr>\n",
       "      <th>12</th>\n",
       "      <td>train</td>\n",
       "      <td>ElasticNet(alpha=1.0, copy_X=True, fit_interce...</td>\n",
       "      <td>en</td>\n",
       "      <td>raw</td>\n",
       "      <td>0.782714</td>\n",
       "    </tr>\n",
       "    <tr>\n",
       "      <th>13</th>\n",
       "      <td>test</td>\n",
       "      <td>ElasticNet(alpha=1.0, copy_X=True, fit_interce...</td>\n",
       "      <td>en</td>\n",
       "      <td>raw</td>\n",
       "      <td>0.750094</td>\n",
       "    </tr>\n",
       "  </tbody>\n",
       "</table>\n",
       "</div>"
      ],
      "text/plain": [
       "   dataset                                              model       name  \\\n",
       "0    train  LinearRegression(copy_X=True, fit_intercept=Tr...  benchmark   \n",
       "1     test  LinearRegression(copy_X=True, fit_intercept=Tr...  benchmark   \n",
       "4    train  Ridge(alpha=1.0, copy_X=True, fit_intercept=Tr...      ridge   \n",
       "5     test  Ridge(alpha=1.0, copy_X=True, fit_intercept=Tr...      ridge   \n",
       "8    train  Lasso(alpha=1.0, copy_X=True, fit_intercept=Tr...      lasso   \n",
       "9     test  Lasso(alpha=1.0, copy_X=True, fit_intercept=Tr...      lasso   \n",
       "12   train  ElasticNet(alpha=1.0, copy_X=True, fit_interce...         en   \n",
       "13    test  ElasticNet(alpha=1.0, copy_X=True, fit_interce...         en   \n",
       "\n",
       "   preprocessing     score  \n",
       "0            raw  0.914234  \n",
       "1            raw  0.682817  \n",
       "4            raw  0.903487  \n",
       "5            raw  0.697926  \n",
       "8            raw  0.914182  \n",
       "9            raw  0.685020  \n",
       "12           raw  0.782714  \n",
       "13           raw  0.750094  "
      ]
     },
     "execution_count": 38,
     "metadata": {},
     "output_type": "execute_result"
    }
   ],
   "source": [
    "results_df[results_df['preprocessing'] == 'raw']"
   ]
  },
  {
   "cell_type": "markdown",
   "metadata": {},
   "source": [
    "#### What are your observations? Add them to this markdown cell.\n",
    "\n",
    "---\n",
    "\n"
   ]
  },
  {
   "cell_type": "markdown",
   "metadata": {},
   "source": [
    "#### Display just the scaled test results"
   ]
  },
  {
   "cell_type": "code",
   "execution_count": 39,
   "metadata": {},
   "outputs": [
    {
     "data": {
      "text/html": [
       "<div>\n",
       "<table border=\"1\" class=\"dataframe\">\n",
       "  <thead>\n",
       "    <tr style=\"text-align: right;\">\n",
       "      <th></th>\n",
       "      <th>dataset</th>\n",
       "      <th>model</th>\n",
       "      <th>name</th>\n",
       "      <th>preprocessing</th>\n",
       "      <th>score</th>\n",
       "    </tr>\n",
       "  </thead>\n",
       "  <tbody>\n",
       "    <tr>\n",
       "      <th>3</th>\n",
       "      <td>test</td>\n",
       "      <td>LinearRegression(copy_X=True, fit_intercept=Tr...</td>\n",
       "      <td>benchmark</td>\n",
       "      <td>scaled</td>\n",
       "      <td>-2.318087e+24</td>\n",
       "    </tr>\n",
       "    <tr>\n",
       "      <th>7</th>\n",
       "      <td>test</td>\n",
       "      <td>Ridge(alpha=1.0, copy_X=True, fit_intercept=Tr...</td>\n",
       "      <td>ridge</td>\n",
       "      <td>scaled</td>\n",
       "      <td>6.836137e-01</td>\n",
       "    </tr>\n",
       "    <tr>\n",
       "      <th>11</th>\n",
       "      <td>test</td>\n",
       "      <td>Lasso(alpha=1.0, copy_X=True, fit_intercept=Tr...</td>\n",
       "      <td>lasso</td>\n",
       "      <td>scaled</td>\n",
       "      <td>6.836022e-01</td>\n",
       "    </tr>\n",
       "    <tr>\n",
       "      <th>15</th>\n",
       "      <td>test</td>\n",
       "      <td>ElasticNet(alpha=1.0, copy_X=True, fit_interce...</td>\n",
       "      <td>en</td>\n",
       "      <td>scaled</td>\n",
       "      <td>7.257364e-01</td>\n",
       "    </tr>\n",
       "  </tbody>\n",
       "</table>\n",
       "</div>"
      ],
      "text/plain": [
       "   dataset                                              model       name  \\\n",
       "3     test  LinearRegression(copy_X=True, fit_intercept=Tr...  benchmark   \n",
       "7     test  Ridge(alpha=1.0, copy_X=True, fit_intercept=Tr...      ridge   \n",
       "11    test  Lasso(alpha=1.0, copy_X=True, fit_intercept=Tr...      lasso   \n",
       "15    test  ElasticNet(alpha=1.0, copy_X=True, fit_interce...         en   \n",
       "\n",
       "   preprocessing         score  \n",
       "3         scaled -2.318087e+24  \n",
       "7         scaled  6.836137e-01  \n",
       "11        scaled  6.836022e-01  \n",
       "15        scaled  7.257364e-01  "
      ]
     },
     "execution_count": 39,
     "metadata": {},
     "output_type": "execute_result"
    }
   ],
   "source": [
    "results_df[(results_df.preprocessing == 'scaled') & (results_df.dataset == 'test')]"
   ]
  },
  {
   "cell_type": "markdown",
   "metadata": {},
   "source": [
    "#### What are your observations? Add them to this markdown cell.\n",
    "\n",
    "---\n",
    "\n"
   ]
  },
  {
   "cell_type": "markdown",
   "metadata": {},
   "source": [
    "#### Display just the Benchmark models"
   ]
  },
  {
   "cell_type": "code",
   "execution_count": 40,
   "metadata": {},
   "outputs": [
    {
     "data": {
      "text/html": [
       "<div>\n",
       "<table border=\"1\" class=\"dataframe\">\n",
       "  <thead>\n",
       "    <tr style=\"text-align: right;\">\n",
       "      <th></th>\n",
       "      <th>dataset</th>\n",
       "      <th>model</th>\n",
       "      <th>name</th>\n",
       "      <th>preprocessing</th>\n",
       "      <th>score</th>\n",
       "    </tr>\n",
       "  </thead>\n",
       "  <tbody>\n",
       "    <tr>\n",
       "      <th>0</th>\n",
       "      <td>train</td>\n",
       "      <td>LinearRegression(copy_X=True, fit_intercept=Tr...</td>\n",
       "      <td>benchmark</td>\n",
       "      <td>raw</td>\n",
       "      <td>9.142336e-01</td>\n",
       "    </tr>\n",
       "    <tr>\n",
       "      <th>1</th>\n",
       "      <td>test</td>\n",
       "      <td>LinearRegression(copy_X=True, fit_intercept=Tr...</td>\n",
       "      <td>benchmark</td>\n",
       "      <td>raw</td>\n",
       "      <td>6.828173e-01</td>\n",
       "    </tr>\n",
       "    <tr>\n",
       "      <th>2</th>\n",
       "      <td>train</td>\n",
       "      <td>LinearRegression(copy_X=True, fit_intercept=Tr...</td>\n",
       "      <td>benchmark</td>\n",
       "      <td>scaled</td>\n",
       "      <td>9.133704e-01</td>\n",
       "    </tr>\n",
       "    <tr>\n",
       "      <th>3</th>\n",
       "      <td>test</td>\n",
       "      <td>LinearRegression(copy_X=True, fit_intercept=Tr...</td>\n",
       "      <td>benchmark</td>\n",
       "      <td>scaled</td>\n",
       "      <td>-2.318087e+24</td>\n",
       "    </tr>\n",
       "  </tbody>\n",
       "</table>\n",
       "</div>"
      ],
      "text/plain": [
       "  dataset                                              model       name  \\\n",
       "0   train  LinearRegression(copy_X=True, fit_intercept=Tr...  benchmark   \n",
       "1    test  LinearRegression(copy_X=True, fit_intercept=Tr...  benchmark   \n",
       "2   train  LinearRegression(copy_X=True, fit_intercept=Tr...  benchmark   \n",
       "3    test  LinearRegression(copy_X=True, fit_intercept=Tr...  benchmark   \n",
       "\n",
       "  preprocessing         score  \n",
       "0           raw  9.142336e-01  \n",
       "1           raw  6.828173e-01  \n",
       "2        scaled  9.133704e-01  \n",
       "3        scaled -2.318087e+24  "
      ]
     },
     "execution_count": 40,
     "metadata": {},
     "output_type": "execute_result"
    }
   ],
   "source": [
    "results_df[results_df.name == 'benchmark']"
   ]
  },
  {
   "cell_type": "markdown",
   "metadata": {},
   "source": [
    "#### Display just the Ridge models"
   ]
  },
  {
   "cell_type": "code",
   "execution_count": 41,
   "metadata": {},
   "outputs": [
    {
     "data": {
      "text/html": [
       "<div>\n",
       "<table border=\"1\" class=\"dataframe\">\n",
       "  <thead>\n",
       "    <tr style=\"text-align: right;\">\n",
       "      <th></th>\n",
       "      <th>dataset</th>\n",
       "      <th>model</th>\n",
       "      <th>name</th>\n",
       "      <th>preprocessing</th>\n",
       "      <th>score</th>\n",
       "    </tr>\n",
       "  </thead>\n",
       "  <tbody>\n",
       "    <tr>\n",
       "      <th>4</th>\n",
       "      <td>train</td>\n",
       "      <td>Ridge(alpha=1.0, copy_X=True, fit_intercept=Tr...</td>\n",
       "      <td>ridge</td>\n",
       "      <td>raw</td>\n",
       "      <td>0.903487</td>\n",
       "    </tr>\n",
       "    <tr>\n",
       "      <th>5</th>\n",
       "      <td>test</td>\n",
       "      <td>Ridge(alpha=1.0, copy_X=True, fit_intercept=Tr...</td>\n",
       "      <td>ridge</td>\n",
       "      <td>raw</td>\n",
       "      <td>0.697926</td>\n",
       "    </tr>\n",
       "    <tr>\n",
       "      <th>6</th>\n",
       "      <td>train</td>\n",
       "      <td>Ridge(alpha=1.0, copy_X=True, fit_intercept=Tr...</td>\n",
       "      <td>ridge</td>\n",
       "      <td>scaled</td>\n",
       "      <td>0.914226</td>\n",
       "    </tr>\n",
       "    <tr>\n",
       "      <th>7</th>\n",
       "      <td>test</td>\n",
       "      <td>Ridge(alpha=1.0, copy_X=True, fit_intercept=Tr...</td>\n",
       "      <td>ridge</td>\n",
       "      <td>scaled</td>\n",
       "      <td>0.683614</td>\n",
       "    </tr>\n",
       "  </tbody>\n",
       "</table>\n",
       "</div>"
      ],
      "text/plain": [
       "  dataset                                              model   name  \\\n",
       "4   train  Ridge(alpha=1.0, copy_X=True, fit_intercept=Tr...  ridge   \n",
       "5    test  Ridge(alpha=1.0, copy_X=True, fit_intercept=Tr...  ridge   \n",
       "6   train  Ridge(alpha=1.0, copy_X=True, fit_intercept=Tr...  ridge   \n",
       "7    test  Ridge(alpha=1.0, copy_X=True, fit_intercept=Tr...  ridge   \n",
       "\n",
       "  preprocessing     score  \n",
       "4           raw  0.903487  \n",
       "5           raw  0.697926  \n",
       "6        scaled  0.914226  \n",
       "7        scaled  0.683614  "
      ]
     },
     "execution_count": 41,
     "metadata": {},
     "output_type": "execute_result"
    }
   ],
   "source": [
    "results_df[(results_df.name == 'ridge')]"
   ]
  },
  {
   "cell_type": "markdown",
   "metadata": {},
   "source": [
    "#### Display just the Lasso models"
   ]
  },
  {
   "cell_type": "code",
   "execution_count": 42,
   "metadata": {},
   "outputs": [
    {
     "data": {
      "text/html": [
       "<div>\n",
       "<table border=\"1\" class=\"dataframe\">\n",
       "  <thead>\n",
       "    <tr style=\"text-align: right;\">\n",
       "      <th></th>\n",
       "      <th>dataset</th>\n",
       "      <th>model</th>\n",
       "      <th>name</th>\n",
       "      <th>preprocessing</th>\n",
       "      <th>score</th>\n",
       "    </tr>\n",
       "  </thead>\n",
       "  <tbody>\n",
       "    <tr>\n",
       "      <th>8</th>\n",
       "      <td>train</td>\n",
       "      <td>Lasso(alpha=1.0, copy_X=True, fit_intercept=Tr...</td>\n",
       "      <td>lasso</td>\n",
       "      <td>raw</td>\n",
       "      <td>0.914182</td>\n",
       "    </tr>\n",
       "    <tr>\n",
       "      <th>9</th>\n",
       "      <td>test</td>\n",
       "      <td>Lasso(alpha=1.0, copy_X=True, fit_intercept=Tr...</td>\n",
       "      <td>lasso</td>\n",
       "      <td>raw</td>\n",
       "      <td>0.685020</td>\n",
       "    </tr>\n",
       "    <tr>\n",
       "      <th>10</th>\n",
       "      <td>train</td>\n",
       "      <td>Lasso(alpha=1.0, copy_X=True, fit_intercept=Tr...</td>\n",
       "      <td>lasso</td>\n",
       "      <td>scaled</td>\n",
       "      <td>0.914233</td>\n",
       "    </tr>\n",
       "    <tr>\n",
       "      <th>11</th>\n",
       "      <td>test</td>\n",
       "      <td>Lasso(alpha=1.0, copy_X=True, fit_intercept=Tr...</td>\n",
       "      <td>lasso</td>\n",
       "      <td>scaled</td>\n",
       "      <td>0.683602</td>\n",
       "    </tr>\n",
       "  </tbody>\n",
       "</table>\n",
       "</div>"
      ],
      "text/plain": [
       "   dataset                                              model   name  \\\n",
       "8    train  Lasso(alpha=1.0, copy_X=True, fit_intercept=Tr...  lasso   \n",
       "9     test  Lasso(alpha=1.0, copy_X=True, fit_intercept=Tr...  lasso   \n",
       "10   train  Lasso(alpha=1.0, copy_X=True, fit_intercept=Tr...  lasso   \n",
       "11    test  Lasso(alpha=1.0, copy_X=True, fit_intercept=Tr...  lasso   \n",
       "\n",
       "   preprocessing     score  \n",
       "8            raw  0.914182  \n",
       "9            raw  0.685020  \n",
       "10        scaled  0.914233  \n",
       "11        scaled  0.683602  "
      ]
     },
     "execution_count": 42,
     "metadata": {},
     "output_type": "execute_result"
    }
   ],
   "source": [
    "results_df[(results_df.name == 'lasso')]"
   ]
  },
  {
   "cell_type": "markdown",
   "metadata": {},
   "source": [
    "#### Display just the Elasticnet models"
   ]
  },
  {
   "cell_type": "code",
   "execution_count": 43,
   "metadata": {},
   "outputs": [
    {
     "data": {
      "text/html": [
       "<div>\n",
       "<table border=\"1\" class=\"dataframe\">\n",
       "  <thead>\n",
       "    <tr style=\"text-align: right;\">\n",
       "      <th></th>\n",
       "      <th>dataset</th>\n",
       "      <th>model</th>\n",
       "      <th>name</th>\n",
       "      <th>preprocessing</th>\n",
       "      <th>score</th>\n",
       "    </tr>\n",
       "  </thead>\n",
       "  <tbody>\n",
       "    <tr>\n",
       "      <th>12</th>\n",
       "      <td>train</td>\n",
       "      <td>ElasticNet(alpha=1.0, copy_X=True, fit_interce...</td>\n",
       "      <td>en</td>\n",
       "      <td>raw</td>\n",
       "      <td>0.782714</td>\n",
       "    </tr>\n",
       "    <tr>\n",
       "      <th>13</th>\n",
       "      <td>test</td>\n",
       "      <td>ElasticNet(alpha=1.0, copy_X=True, fit_interce...</td>\n",
       "      <td>en</td>\n",
       "      <td>raw</td>\n",
       "      <td>0.750094</td>\n",
       "    </tr>\n",
       "    <tr>\n",
       "      <th>14</th>\n",
       "      <td>train</td>\n",
       "      <td>ElasticNet(alpha=1.0, copy_X=True, fit_interce...</td>\n",
       "      <td>en</td>\n",
       "      <td>scaled</td>\n",
       "      <td>0.886074</td>\n",
       "    </tr>\n",
       "    <tr>\n",
       "      <th>15</th>\n",
       "      <td>test</td>\n",
       "      <td>ElasticNet(alpha=1.0, copy_X=True, fit_interce...</td>\n",
       "      <td>en</td>\n",
       "      <td>scaled</td>\n",
       "      <td>0.725736</td>\n",
       "    </tr>\n",
       "  </tbody>\n",
       "</table>\n",
       "</div>"
      ],
      "text/plain": [
       "   dataset                                              model name  \\\n",
       "12   train  ElasticNet(alpha=1.0, copy_X=True, fit_interce...   en   \n",
       "13    test  ElasticNet(alpha=1.0, copy_X=True, fit_interce...   en   \n",
       "14   train  ElasticNet(alpha=1.0, copy_X=True, fit_interce...   en   \n",
       "15    test  ElasticNet(alpha=1.0, copy_X=True, fit_interce...   en   \n",
       "\n",
       "   preprocessing     score  \n",
       "12           raw  0.782714  \n",
       "13           raw  0.750094  \n",
       "14        scaled  0.886074  \n",
       "15        scaled  0.725736  "
      ]
     },
     "execution_count": 43,
     "metadata": {},
     "output_type": "execute_result"
    }
   ],
   "source": [
    "results_df[(results_df.name == 'en')]"
   ]
  },
  {
   "cell_type": "markdown",
   "metadata": {},
   "source": [
    "#### What are your observations? Add them to this markdown cell.\n",
    "\n",
    "---\n",
    "\n"
   ]
  },
  {
   "cell_type": "markdown",
   "metadata": {},
   "source": [
    "### C. Cross-validated models\n",
    "\n",
    "Import the Cross-Validation Models for each of the Regularized Linear Models"
   ]
  },
  {
   "cell_type": "code",
   "execution_count": 44,
   "metadata": {},
   "outputs": [],
   "source": [
    "cv_results = list()"
   ]
  },
  {
   "cell_type": "code",
   "execution_count": 45,
   "metadata": {},
   "outputs": [],
   "source": [
    "from sklearn.linear_model import RidgeCV, LassoCV, ElasticNetCV"
   ]
  },
  {
   "cell_type": "markdown",
   "metadata": {},
   "source": [
    "Perform the cross-validation using an `np.logspace(-2,4,7)`."
   ]
  },
  {
   "cell_type": "code",
   "execution_count": 46,
   "metadata": {},
   "outputs": [],
   "source": [
    "a = np.logspace(-2, 4, 7)"
   ]
  },
  {
   "cell_type": "code",
   "execution_count": 47,
   "metadata": {},
   "outputs": [],
   "source": [
    "ridgecv = RidgeCV(alphas=a, cv=5)\n",
    "ridgecv.fit(X_train, y_train)\n",
    "scaled_ridgecv = RidgeCV(alphas=a, cv=5)\n",
    "scaled_ridgecv.fit(X_train_scaled, y_train)\n",
    "\n",
    "cv_results.append({'name':'ridge',\n",
    "                'model':ridgecv,\n",
    "                'dataset' : 'train',\n",
    "                'preprocessing': 'raw',\n",
    "                'score': ridgecv.score(X_train, y_train)})\n",
    "cv_results.append({'name':'ridge',\n",
    "                'model':ridgecv,\n",
    "                'dataset' : 'test',\n",
    "                'preprocessing': 'raw',\n",
    "                'score': ridgecv.score(X_test, y_test)})\n",
    "cv_results.append({'name':'ridge',\n",
    "                'model':scaled_ridgecv,\n",
    "                'dataset' : 'train',\n",
    "                'preprocessing': 'scaled',\n",
    "                'score': scaled_ridgecv.score(X_train_scaled, y_train)})\n",
    "cv_results.append({'name':'ridge',\n",
    "                'model':scaled_ridgecv,\n",
    "                'dataset' : 'test',\n",
    "                'preprocessing': 'scaled',\n",
    "                'score': scaled_ridgecv.score(X_test_scaled, y_test)})"
   ]
  },
  {
   "cell_type": "code",
   "execution_count": 48,
   "metadata": {},
   "outputs": [
    {
     "name": "stderr",
     "output_type": "stream",
     "text": [
      "/opt/conda/lib/python3.6/site-packages/sklearn/linear_model/coordinate_descent.py:484: ConvergenceWarning: Objective did not converge. You might want to increase the number of iterations. Fitting data with very small alpha may cause precision problems.\n",
      "  ConvergenceWarning)\n",
      "/opt/conda/lib/python3.6/site-packages/sklearn/linear_model/coordinate_descent.py:484: ConvergenceWarning: Objective did not converge. You might want to increase the number of iterations. Fitting data with very small alpha may cause precision problems.\n",
      "  ConvergenceWarning)\n"
     ]
    }
   ],
   "source": [
    "lassocv = LassoCV(alphas=a, cv=5)\n",
    "lassocv.fit(X_train, y_train)\n",
    "scaled_lassocv = LassoCV(alphas=a, cv=5)\n",
    "scaled_lassocv.fit(X_train_scaled, y_train)\n",
    "\n",
    "cv_results.append({'name':'lasso',\n",
    "                'model':lassocv,\n",
    "                'dataset' : 'train',\n",
    "                'preprocessing': 'raw',\n",
    "                'score': lassocv.score(X_train, y_train)})\n",
    "cv_results.append({'name':'lasso',\n",
    "                'model':lassocv,\n",
    "                'dataset' : 'test',\n",
    "                'preprocessing': 'raw',\n",
    "                'score': lassocv.score(X_test, y_test)})\n",
    "cv_results.append({'name':'lasso',\n",
    "                'model':scaled_lassocv,\n",
    "                'dataset' : 'train',\n",
    "                'preprocessing': 'scaled',\n",
    "                'score': scaled_lassocv.score(X_train_scaled, y_train)})\n",
    "cv_results.append({'name':'lasso',\n",
    "                'model':scaled_lassocv,\n",
    "                'dataset' : 'test',\n",
    "                'preprocessing': 'scaled',\n",
    "                'score': scaled_lassocv.score(X_test_scaled, y_test)})"
   ]
  },
  {
   "cell_type": "code",
   "execution_count": 49,
   "metadata": {},
   "outputs": [],
   "source": [
    "encv = ElasticNetCV(l1_ratio=[.25,.5,.75], cv=5)\n",
    "encv.fit(X_train, y_train)\n",
    "scaled_encv = ElasticNetCV(l1_ratio=[.25,.5,.75], cv=5)\n",
    "scaled_encv.fit(X_train_scaled, y_train)\n",
    "\n",
    "cv_results.append({'name':'en',\n",
    "                'model':encv,\n",
    "                'dataset' : 'train',\n",
    "                'preprocessing': 'raw',\n",
    "                'score': encv.score(X_train, y_train)})\n",
    "cv_results.append({'name':'en',\n",
    "                'model':encv,\n",
    "                'dataset' : 'test',\n",
    "                'preprocessing': 'raw',\n",
    "                'score': encv.score(X_test, y_test)})\n",
    "cv_results.append({'name':'en',\n",
    "                'model':scaled_encv,\n",
    "                'dataset' : 'train',\n",
    "                'preprocessing': 'scaled',\n",
    "                'score': scaled_encv.score(X_train_scaled, y_train)})\n",
    "cv_results.append({'name':'en',\n",
    "                'model':scaled_encv,\n",
    "                'dataset' : 'test',\n",
    "                'preprocessing': 'scaled',\n",
    "                'score': scaled_encv.score(X_test_scaled, y_test)})"
   ]
  },
  {
   "cell_type": "markdown",
   "metadata": {},
   "source": [
    "#### Display just the raw test results"
   ]
  },
  {
   "cell_type": "code",
   "execution_count": 50,
   "metadata": {},
   "outputs": [],
   "source": [
    "cv_results_df = pd.DataFrame(cv_results)"
   ]
  },
  {
   "cell_type": "code",
   "execution_count": 51,
   "metadata": {},
   "outputs": [
    {
     "name": "stderr",
     "output_type": "stream",
     "text": [
      "/opt/conda/lib/python3.6/site-packages/ipykernel_launcher.py:1: UserWarning: Boolean Series key will be reindexed to match DataFrame index.\n",
      "  \"\"\"Entry point for launching an IPython kernel.\n"
     ]
    },
    {
     "data": {
      "text/html": [
       "<div>\n",
       "<table border=\"1\" class=\"dataframe\">\n",
       "  <thead>\n",
       "    <tr style=\"text-align: right;\">\n",
       "      <th></th>\n",
       "      <th>dataset</th>\n",
       "      <th>model</th>\n",
       "      <th>name</th>\n",
       "      <th>preprocessing</th>\n",
       "      <th>score</th>\n",
       "    </tr>\n",
       "  </thead>\n",
       "  <tbody>\n",
       "    <tr>\n",
       "      <th>1</th>\n",
       "      <td>test</td>\n",
       "      <td>RidgeCV(alphas=array([  1.00000e-02,   1.00000...</td>\n",
       "      <td>ridge</td>\n",
       "      <td>raw</td>\n",
       "      <td>0.736981</td>\n",
       "    </tr>\n",
       "    <tr>\n",
       "      <th>5</th>\n",
       "      <td>test</td>\n",
       "      <td>LassoCV(alphas=array([  1.00000e-02,   1.00000...</td>\n",
       "      <td>lasso</td>\n",
       "      <td>raw</td>\n",
       "      <td>0.727734</td>\n",
       "    </tr>\n",
       "    <tr>\n",
       "      <th>9</th>\n",
       "      <td>test</td>\n",
       "      <td>ElasticNetCV(alphas=None, copy_X=True, cv=5, e...</td>\n",
       "      <td>en</td>\n",
       "      <td>raw</td>\n",
       "      <td>0.602617</td>\n",
       "    </tr>\n",
       "  </tbody>\n",
       "</table>\n",
       "</div>"
      ],
      "text/plain": [
       "  dataset                                              model   name  \\\n",
       "1    test  RidgeCV(alphas=array([  1.00000e-02,   1.00000...  ridge   \n",
       "5    test  LassoCV(alphas=array([  1.00000e-02,   1.00000...  lasso   \n",
       "9    test  ElasticNetCV(alphas=None, copy_X=True, cv=5, e...     en   \n",
       "\n",
       "  preprocessing     score  \n",
       "1           raw  0.736981  \n",
       "5           raw  0.727734  \n",
       "9           raw  0.602617  "
      ]
     },
     "execution_count": 51,
     "metadata": {},
     "output_type": "execute_result"
    }
   ],
   "source": [
    "cv_results_df[(results_df.preprocessing == 'raw') & (results_df.dataset == 'test')]"
   ]
  },
  {
   "cell_type": "markdown",
   "metadata": {},
   "source": [
    "#### Display just the scaled test results"
   ]
  },
  {
   "cell_type": "code",
   "execution_count": 52,
   "metadata": {},
   "outputs": [
    {
     "name": "stderr",
     "output_type": "stream",
     "text": [
      "/opt/conda/lib/python3.6/site-packages/ipykernel_launcher.py:1: UserWarning: Boolean Series key will be reindexed to match DataFrame index.\n",
      "  \"\"\"Entry point for launching an IPython kernel.\n"
     ]
    },
    {
     "data": {
      "text/html": [
       "<div>\n",
       "<table border=\"1\" class=\"dataframe\">\n",
       "  <thead>\n",
       "    <tr style=\"text-align: right;\">\n",
       "      <th></th>\n",
       "      <th>dataset</th>\n",
       "      <th>model</th>\n",
       "      <th>name</th>\n",
       "      <th>preprocessing</th>\n",
       "      <th>score</th>\n",
       "    </tr>\n",
       "  </thead>\n",
       "  <tbody>\n",
       "    <tr>\n",
       "      <th>3</th>\n",
       "      <td>test</td>\n",
       "      <td>RidgeCV(alphas=array([  1.00000e-02,   1.00000...</td>\n",
       "      <td>ridge</td>\n",
       "      <td>scaled</td>\n",
       "      <td>0.734095</td>\n",
       "    </tr>\n",
       "    <tr>\n",
       "      <th>7</th>\n",
       "      <td>test</td>\n",
       "      <td>LassoCV(alphas=array([  1.00000e-02,   1.00000...</td>\n",
       "      <td>lasso</td>\n",
       "      <td>scaled</td>\n",
       "      <td>0.712513</td>\n",
       "    </tr>\n",
       "    <tr>\n",
       "      <th>11</th>\n",
       "      <td>test</td>\n",
       "      <td>ElasticNetCV(alphas=None, copy_X=True, cv=5, e...</td>\n",
       "      <td>en</td>\n",
       "      <td>scaled</td>\n",
       "      <td>0.594769</td>\n",
       "    </tr>\n",
       "  </tbody>\n",
       "</table>\n",
       "</div>"
      ],
      "text/plain": [
       "   dataset                                              model   name  \\\n",
       "3     test  RidgeCV(alphas=array([  1.00000e-02,   1.00000...  ridge   \n",
       "7     test  LassoCV(alphas=array([  1.00000e-02,   1.00000...  lasso   \n",
       "11    test  ElasticNetCV(alphas=None, copy_X=True, cv=5, e...     en   \n",
       "\n",
       "   preprocessing     score  \n",
       "3         scaled  0.734095  \n",
       "7         scaled  0.712513  \n",
       "11        scaled  0.594769  "
      ]
     },
     "execution_count": 52,
     "metadata": {},
     "output_type": "execute_result"
    }
   ],
   "source": [
    "cv_results_df[(results_df.preprocessing == 'scaled') & (results_df.dataset == 'test')]"
   ]
  },
  {
   "cell_type": "markdown",
   "metadata": {},
   "source": [
    "### D. Model Selection\n",
    "\n",
    "Interpret Regression Metrics for each of your models. Choose one of the following:\n",
    "\n",
    "* R2\n",
    "* MSE / RMSE\n",
    "* MAE\n",
    "\n",
    "What are your top 3 performing models? "
   ]
  },
  {
   "cell_type": "markdown",
   "metadata": {},
   "source": [
    "Find R2 via:\n",
    "y_pred_~ = ~.fit(X_train, y_train).predict(X_test)\n",
    "r2_score_~ = r2_score(y_test, y_pred_~)\n",
    "\n",
    "Find MSE via\n",
    "~cv.mse_paths.\n",
    "\n",
    "Find MAE via:\n",
    "y_pred_~ = ~.fit(X_train, y_train).predict(X_test)\n",
    "mae_score = mean_absolute_error(y_true, y_pred_~)"
   ]
  },
  {
   "cell_type": "markdown",
   "metadata": {},
   "source": [
    "RMSE & MAE: \"Taking the square root of the average squared errors has some interesting implications for RMSE. Since the errors are squared before they are averaged, the RMSE gives a relatively high weight to large errors. This means the RMSE should be more useful when large errors are particularly undesirable. The three tables below show examples where MAE is steady and RMSE increases as the variance associated with the frequency distribution of error magnitudes also increases.\"\n",
    "\"Here is another situation when you want to use (R)MSE instead of MAE: when your observations' conditional distribution is asymmetric and you want an unbiased fit. The (R)MSE is minimized by the conditional mean, the MAE by the conditional median. So if you minimize the MAE, the fit will be closer to the median and biased.\"\n",
    "\n",
    "RMSE > MAE for datasets lacking in large errors or when large errors are undesirable. MAE is a good baseline for skewed data due to its use of the median, but is worse across datasets due to its bias.\n",
    "\n",
    "R2 is unbiased, and measures variability well. It's what the various models we're making use natively, which means it is probably the industry standard. It has an elegant formula, which incidentally is very similar to MSE, and I just like it the best. So I will use R2."
   ]
  },
  {
   "cell_type": "code",
   "execution_count": 53,
   "metadata": {},
   "outputs": [
    {
     "name": "stdout",
     "output_type": "stream",
     "text": [
      "0.602617250639\n",
      "29875.8780347\n",
      "2221381947.18\n",
      "47131.5387738\n"
     ]
    }
   ],
   "source": [
    "from sklearn.metrics import r2_score, mean_squared_error, mean_absolute_error\n",
    "def find_r2(fitted_model, X_test = [X_test, X_test_scaled], y_test = y_test):\n",
    "    y_pred = [fitted_model.predict(X_test[0]), fitted_model.predict(X_test[1])]\n",
    "    r2score = [r2_score(y_test, y_pred[0]), r2_score(y_test, y_pred[1])]\n",
    "    return max(r2score)\n",
    "def find_mae(fitted_model, X_test = [X_test, X_test_scaled], y_test = y_test):\n",
    "    y_pred = [fitted_model.predict(X_test[0]), fitted_model.predict(X_test[1])]\n",
    "    maescore = [mean_absolute_error(y_test, y_pred[0]), mean_absolute_error(y_test, y_pred[1])]\n",
    "    return min(maescore)\n",
    "def find_mse(fitted_model, X_test = [X_test, X_test_scaled], y_test = y_test):\n",
    "    y_pred = [fitted_model.predict(X_test[0]), fitted_model.predict(X_test[1])]\n",
    "    msescore = [mean_squared_error(y_test, y_pred[0]), mean_squared_error(y_test, y_pred[1])]\n",
    "    return min(msescore)\n",
    "def find_rmse(fitted_model, X_test = [X_test, X_test_scaled], y_test = y_test):\n",
    "    y_pred = [fitted_model.predict(X_test[0]), fitted_model.predict(X_test[1])]\n",
    "    rmsescore = [np.sqrt(mean_squared_error(y_test, y_pred[0])), np.sqrt(mean_squared_error(y_test, y_pred[1]))]\n",
    "    return min(rmsescore)\n",
    "print(find_r2(encv))\n",
    "print(find_mae(encv))\n",
    "print(find_mse(encv))\n",
    "print(find_rmse(encv))"
   ]
  },
  {
   "cell_type": "code",
   "execution_count": 54,
   "metadata": {},
   "outputs": [],
   "source": [
    "cv_results_df['r2_score'] = cv_results_df['model'].apply(find_r2)\n",
    "cv_results_df['mae_score'] = cv_results_df['model'].apply(find_mae)\n",
    "cv_results_df['mse_score'] = cv_results_df['model'].apply(find_mse)\n",
    "cv_results_df['rmse_score'] = cv_results_df['model'].apply(find_rmse)"
   ]
  },
  {
   "cell_type": "code",
   "execution_count": 68,
   "metadata": {},
   "outputs": [
    {
     "data": {
      "text/html": [
       "<div>\n",
       "<table border=\"1\" class=\"dataframe\">\n",
       "  <thead>\n",
       "    <tr style=\"text-align: right;\">\n",
       "      <th></th>\n",
       "      <th>dataset</th>\n",
       "      <th>model</th>\n",
       "      <th>name</th>\n",
       "      <th>preprocessing</th>\n",
       "      <th>score</th>\n",
       "      <th>r2_score</th>\n",
       "      <th>mae_score</th>\n",
       "      <th>mse_score</th>\n",
       "      <th>rmse_score</th>\n",
       "    </tr>\n",
       "  </thead>\n",
       "  <tbody>\n",
       "    <tr>\n",
       "      <th>0</th>\n",
       "      <td>train</td>\n",
       "      <td>RidgeCV(alphas=array([  1.00000e-02,   1.00000...</td>\n",
       "      <td>ridge</td>\n",
       "      <td>raw</td>\n",
       "      <td>0.883630</td>\n",
       "      <td>0.736981</td>\n",
       "      <td>20098.231806</td>\n",
       "      <td>1.470287e+09</td>\n",
       "      <td>38344.324104</td>\n",
       "    </tr>\n",
       "    <tr>\n",
       "      <th>1</th>\n",
       "      <td>test</td>\n",
       "      <td>RidgeCV(alphas=array([  1.00000e-02,   1.00000...</td>\n",
       "      <td>ridge</td>\n",
       "      <td>raw</td>\n",
       "      <td>0.736981</td>\n",
       "      <td>0.736981</td>\n",
       "      <td>20098.231806</td>\n",
       "      <td>1.470287e+09</td>\n",
       "      <td>38344.324104</td>\n",
       "    </tr>\n",
       "    <tr>\n",
       "      <th>2</th>\n",
       "      <td>train</td>\n",
       "      <td>RidgeCV(alphas=array([  1.00000e-02,   1.00000...</td>\n",
       "      <td>ridge</td>\n",
       "      <td>scaled</td>\n",
       "      <td>0.876348</td>\n",
       "      <td>0.734095</td>\n",
       "      <td>20274.830549</td>\n",
       "      <td>1.486417e+09</td>\n",
       "      <td>38554.076902</td>\n",
       "    </tr>\n",
       "    <tr>\n",
       "      <th>3</th>\n",
       "      <td>test</td>\n",
       "      <td>RidgeCV(alphas=array([  1.00000e-02,   1.00000...</td>\n",
       "      <td>ridge</td>\n",
       "      <td>scaled</td>\n",
       "      <td>0.734095</td>\n",
       "      <td>0.734095</td>\n",
       "      <td>20274.830549</td>\n",
       "      <td>1.486417e+09</td>\n",
       "      <td>38554.076902</td>\n",
       "    </tr>\n",
       "    <tr>\n",
       "      <th>4</th>\n",
       "      <td>train</td>\n",
       "      <td>LassoCV(alphas=array([  1.00000e-02,   1.00000...</td>\n",
       "      <td>lasso</td>\n",
       "      <td>raw</td>\n",
       "      <td>0.881384</td>\n",
       "      <td>0.727734</td>\n",
       "      <td>19466.019035</td>\n",
       "      <td>1.521975e+09</td>\n",
       "      <td>39012.497335</td>\n",
       "    </tr>\n",
       "    <tr>\n",
       "      <th>5</th>\n",
       "      <td>test</td>\n",
       "      <td>LassoCV(alphas=array([  1.00000e-02,   1.00000...</td>\n",
       "      <td>lasso</td>\n",
       "      <td>raw</td>\n",
       "      <td>0.727734</td>\n",
       "      <td>0.727734</td>\n",
       "      <td>19466.019035</td>\n",
       "      <td>1.521975e+09</td>\n",
       "      <td>39012.497335</td>\n",
       "    </tr>\n",
       "    <tr>\n",
       "      <th>6</th>\n",
       "      <td>train</td>\n",
       "      <td>LassoCV(alphas=array([  1.00000e-02,   1.00000...</td>\n",
       "      <td>lasso</td>\n",
       "      <td>scaled</td>\n",
       "      <td>0.883889</td>\n",
       "      <td>0.712513</td>\n",
       "      <td>18453.211976</td>\n",
       "      <td>1.607060e+09</td>\n",
       "      <td>40088.154505</td>\n",
       "    </tr>\n",
       "    <tr>\n",
       "      <th>7</th>\n",
       "      <td>test</td>\n",
       "      <td>LassoCV(alphas=array([  1.00000e-02,   1.00000...</td>\n",
       "      <td>lasso</td>\n",
       "      <td>scaled</td>\n",
       "      <td>0.712513</td>\n",
       "      <td>0.712513</td>\n",
       "      <td>18453.211976</td>\n",
       "      <td>1.607060e+09</td>\n",
       "      <td>40088.154505</td>\n",
       "    </tr>\n",
       "    <tr>\n",
       "      <th>8</th>\n",
       "      <td>train</td>\n",
       "      <td>ElasticNetCV(alphas=None, copy_X=True, cv=5, e...</td>\n",
       "      <td>en</td>\n",
       "      <td>raw</td>\n",
       "      <td>0.588604</td>\n",
       "      <td>0.602617</td>\n",
       "      <td>29875.878035</td>\n",
       "      <td>2.221382e+09</td>\n",
       "      <td>47131.538774</td>\n",
       "    </tr>\n",
       "    <tr>\n",
       "      <th>9</th>\n",
       "      <td>test</td>\n",
       "      <td>ElasticNetCV(alphas=None, copy_X=True, cv=5, e...</td>\n",
       "      <td>en</td>\n",
       "      <td>raw</td>\n",
       "      <td>0.602617</td>\n",
       "      <td>0.602617</td>\n",
       "      <td>29875.878035</td>\n",
       "      <td>2.221382e+09</td>\n",
       "      <td>47131.538774</td>\n",
       "    </tr>\n",
       "    <tr>\n",
       "      <th>10</th>\n",
       "      <td>train</td>\n",
       "      <td>ElasticNetCV(alphas=None, copy_X=True, cv=5, e...</td>\n",
       "      <td>en</td>\n",
       "      <td>scaled</td>\n",
       "      <td>0.609152</td>\n",
       "      <td>0.594769</td>\n",
       "      <td>35108.418951</td>\n",
       "      <td>2.265254e+09</td>\n",
       "      <td>47594.687172</td>\n",
       "    </tr>\n",
       "    <tr>\n",
       "      <th>11</th>\n",
       "      <td>test</td>\n",
       "      <td>ElasticNetCV(alphas=None, copy_X=True, cv=5, e...</td>\n",
       "      <td>en</td>\n",
       "      <td>scaled</td>\n",
       "      <td>0.594769</td>\n",
       "      <td>0.594769</td>\n",
       "      <td>35108.418951</td>\n",
       "      <td>2.265254e+09</td>\n",
       "      <td>47594.687172</td>\n",
       "    </tr>\n",
       "  </tbody>\n",
       "</table>\n",
       "</div>"
      ],
      "text/plain": [
       "   dataset                                              model   name  \\\n",
       "0    train  RidgeCV(alphas=array([  1.00000e-02,   1.00000...  ridge   \n",
       "1     test  RidgeCV(alphas=array([  1.00000e-02,   1.00000...  ridge   \n",
       "2    train  RidgeCV(alphas=array([  1.00000e-02,   1.00000...  ridge   \n",
       "3     test  RidgeCV(alphas=array([  1.00000e-02,   1.00000...  ridge   \n",
       "4    train  LassoCV(alphas=array([  1.00000e-02,   1.00000...  lasso   \n",
       "5     test  LassoCV(alphas=array([  1.00000e-02,   1.00000...  lasso   \n",
       "6    train  LassoCV(alphas=array([  1.00000e-02,   1.00000...  lasso   \n",
       "7     test  LassoCV(alphas=array([  1.00000e-02,   1.00000...  lasso   \n",
       "8    train  ElasticNetCV(alphas=None, copy_X=True, cv=5, e...     en   \n",
       "9     test  ElasticNetCV(alphas=None, copy_X=True, cv=5, e...     en   \n",
       "10   train  ElasticNetCV(alphas=None, copy_X=True, cv=5, e...     en   \n",
       "11    test  ElasticNetCV(alphas=None, copy_X=True, cv=5, e...     en   \n",
       "\n",
       "   preprocessing     score  r2_score     mae_score     mse_score    rmse_score  \n",
       "0            raw  0.883630  0.736981  20098.231806  1.470287e+09  38344.324104  \n",
       "1            raw  0.736981  0.736981  20098.231806  1.470287e+09  38344.324104  \n",
       "2         scaled  0.876348  0.734095  20274.830549  1.486417e+09  38554.076902  \n",
       "3         scaled  0.734095  0.734095  20274.830549  1.486417e+09  38554.076902  \n",
       "4            raw  0.881384  0.727734  19466.019035  1.521975e+09  39012.497335  \n",
       "5            raw  0.727734  0.727734  19466.019035  1.521975e+09  39012.497335  \n",
       "6         scaled  0.883889  0.712513  18453.211976  1.607060e+09  40088.154505  \n",
       "7         scaled  0.712513  0.712513  18453.211976  1.607060e+09  40088.154505  \n",
       "8            raw  0.588604  0.602617  29875.878035  2.221382e+09  47131.538774  \n",
       "9            raw  0.602617  0.602617  29875.878035  2.221382e+09  47131.538774  \n",
       "10        scaled  0.609152  0.594769  35108.418951  2.265254e+09  47594.687172  \n",
       "11        scaled  0.594769  0.594769  35108.418951  2.265254e+09  47594.687172  "
      ]
     },
     "execution_count": 68,
     "metadata": {},
     "output_type": "execute_result"
    }
   ],
   "source": [
    "cv_results_df"
   ]
  },
  {
   "cell_type": "code",
   "execution_count": 69,
   "metadata": {},
   "outputs": [
    {
     "data": {
      "text/html": [
       "<div>\n",
       "<table border=\"1\" class=\"dataframe\">\n",
       "  <thead>\n",
       "    <tr style=\"text-align: right;\">\n",
       "      <th></th>\n",
       "      <th>dataset</th>\n",
       "      <th>model</th>\n",
       "      <th>name</th>\n",
       "      <th>preprocessing</th>\n",
       "      <th>score</th>\n",
       "      <th>r2_score</th>\n",
       "      <th>mae_score</th>\n",
       "      <th>mse_score</th>\n",
       "      <th>rmse_score</th>\n",
       "    </tr>\n",
       "  </thead>\n",
       "  <tbody>\n",
       "    <tr>\n",
       "      <th>1</th>\n",
       "      <td>test</td>\n",
       "      <td>RidgeCV(alphas=array([  1.00000e-02,   1.00000...</td>\n",
       "      <td>ridge</td>\n",
       "      <td>raw</td>\n",
       "      <td>0.736981</td>\n",
       "      <td>0.736981</td>\n",
       "      <td>20098.231806</td>\n",
       "      <td>1.470287e+09</td>\n",
       "      <td>38344.324104</td>\n",
       "    </tr>\n",
       "    <tr>\n",
       "      <th>3</th>\n",
       "      <td>test</td>\n",
       "      <td>RidgeCV(alphas=array([  1.00000e-02,   1.00000...</td>\n",
       "      <td>ridge</td>\n",
       "      <td>scaled</td>\n",
       "      <td>0.734095</td>\n",
       "      <td>0.734095</td>\n",
       "      <td>20274.830549</td>\n",
       "      <td>1.486417e+09</td>\n",
       "      <td>38554.076902</td>\n",
       "    </tr>\n",
       "    <tr>\n",
       "      <th>5</th>\n",
       "      <td>test</td>\n",
       "      <td>LassoCV(alphas=array([  1.00000e-02,   1.00000...</td>\n",
       "      <td>lasso</td>\n",
       "      <td>raw</td>\n",
       "      <td>0.727734</td>\n",
       "      <td>0.727734</td>\n",
       "      <td>19466.019035</td>\n",
       "      <td>1.521975e+09</td>\n",
       "      <td>39012.497335</td>\n",
       "    </tr>\n",
       "    <tr>\n",
       "      <th>7</th>\n",
       "      <td>test</td>\n",
       "      <td>LassoCV(alphas=array([  1.00000e-02,   1.00000...</td>\n",
       "      <td>lasso</td>\n",
       "      <td>scaled</td>\n",
       "      <td>0.712513</td>\n",
       "      <td>0.712513</td>\n",
       "      <td>18453.211976</td>\n",
       "      <td>1.607060e+09</td>\n",
       "      <td>40088.154505</td>\n",
       "    </tr>\n",
       "    <tr>\n",
       "      <th>9</th>\n",
       "      <td>test</td>\n",
       "      <td>ElasticNetCV(alphas=None, copy_X=True, cv=5, e...</td>\n",
       "      <td>en</td>\n",
       "      <td>raw</td>\n",
       "      <td>0.602617</td>\n",
       "      <td>0.602617</td>\n",
       "      <td>29875.878035</td>\n",
       "      <td>2.221382e+09</td>\n",
       "      <td>47131.538774</td>\n",
       "    </tr>\n",
       "    <tr>\n",
       "      <th>11</th>\n",
       "      <td>test</td>\n",
       "      <td>ElasticNetCV(alphas=None, copy_X=True, cv=5, e...</td>\n",
       "      <td>en</td>\n",
       "      <td>scaled</td>\n",
       "      <td>0.594769</td>\n",
       "      <td>0.594769</td>\n",
       "      <td>35108.418951</td>\n",
       "      <td>2.265254e+09</td>\n",
       "      <td>47594.687172</td>\n",
       "    </tr>\n",
       "  </tbody>\n",
       "</table>\n",
       "</div>"
      ],
      "text/plain": [
       "   dataset                                              model   name  \\\n",
       "1     test  RidgeCV(alphas=array([  1.00000e-02,   1.00000...  ridge   \n",
       "3     test  RidgeCV(alphas=array([  1.00000e-02,   1.00000...  ridge   \n",
       "5     test  LassoCV(alphas=array([  1.00000e-02,   1.00000...  lasso   \n",
       "7     test  LassoCV(alphas=array([  1.00000e-02,   1.00000...  lasso   \n",
       "9     test  ElasticNetCV(alphas=None, copy_X=True, cv=5, e...     en   \n",
       "11    test  ElasticNetCV(alphas=None, copy_X=True, cv=5, e...     en   \n",
       "\n",
       "   preprocessing     score  r2_score     mae_score     mse_score    rmse_score  \n",
       "1            raw  0.736981  0.736981  20098.231806  1.470287e+09  38344.324104  \n",
       "3         scaled  0.734095  0.734095  20274.830549  1.486417e+09  38554.076902  \n",
       "5            raw  0.727734  0.727734  19466.019035  1.521975e+09  39012.497335  \n",
       "7         scaled  0.712513  0.712513  18453.211976  1.607060e+09  40088.154505  \n",
       "9            raw  0.602617  0.602617  29875.878035  2.221382e+09  47131.538774  \n",
       "11        scaled  0.594769  0.594769  35108.418951  2.265254e+09  47594.687172  "
      ]
     },
     "execution_count": 69,
     "metadata": {},
     "output_type": "execute_result"
    }
   ],
   "source": [
    "cv_results_df2 = cv_results_df[cv_results_df['dataset'] == 'test']\n",
    "cv_results_df2"
   ]
  },
  {
   "cell_type": "code",
   "execution_count": 78,
   "metadata": {},
   "outputs": [],
   "source": [
    "best_r2 = cv_results_df2.sort_values('r2_score', ascending = False).head(1)\n",
    "best_mae = cv_results_df2.sort_values('mae_score', ascending = True).head(1)\n",
    "best_mse = cv_results_df2.sort_values('mse_score', ascending = True).head(1)\n",
    "best_rmse = cv_results_df2.sort_values('rmse_score', ascending = True).head(1)"
   ]
  },
  {
   "cell_type": "code",
   "execution_count": 79,
   "metadata": {},
   "outputs": [
    {
     "data": {
      "text/html": [
       "<div>\n",
       "<table border=\"1\" class=\"dataframe\">\n",
       "  <thead>\n",
       "    <tr style=\"text-align: right;\">\n",
       "      <th></th>\n",
       "      <th>dataset</th>\n",
       "      <th>model</th>\n",
       "      <th>name</th>\n",
       "      <th>preprocessing</th>\n",
       "      <th>score</th>\n",
       "      <th>r2_score</th>\n",
       "      <th>mae_score</th>\n",
       "      <th>mse_score</th>\n",
       "      <th>rmse_score</th>\n",
       "    </tr>\n",
       "  </thead>\n",
       "  <tbody>\n",
       "    <tr>\n",
       "      <th>1</th>\n",
       "      <td>test</td>\n",
       "      <td>RidgeCV(alphas=array([  1.00000e-02,   1.00000...</td>\n",
       "      <td>ridge</td>\n",
       "      <td>raw</td>\n",
       "      <td>0.736981</td>\n",
       "      <td>0.736981</td>\n",
       "      <td>20098.231806</td>\n",
       "      <td>1.470287e+09</td>\n",
       "      <td>38344.324104</td>\n",
       "    </tr>\n",
       "  </tbody>\n",
       "</table>\n",
       "</div>"
      ],
      "text/plain": [
       "  dataset                                              model   name  \\\n",
       "1    test  RidgeCV(alphas=array([  1.00000e-02,   1.00000...  ridge   \n",
       "\n",
       "  preprocessing     score  r2_score     mae_score     mse_score    rmse_score  \n",
       "1           raw  0.736981  0.736981  20098.231806  1.470287e+09  38344.324104  "
      ]
     },
     "execution_count": 79,
     "metadata": {},
     "output_type": "execute_result"
    }
   ],
   "source": [
    "best_r2"
   ]
  },
  {
   "cell_type": "code",
   "execution_count": 80,
   "metadata": {},
   "outputs": [
    {
     "data": {
      "text/html": [
       "<div>\n",
       "<table border=\"1\" class=\"dataframe\">\n",
       "  <thead>\n",
       "    <tr style=\"text-align: right;\">\n",
       "      <th></th>\n",
       "      <th>dataset</th>\n",
       "      <th>model</th>\n",
       "      <th>name</th>\n",
       "      <th>preprocessing</th>\n",
       "      <th>score</th>\n",
       "      <th>r2_score</th>\n",
       "      <th>mae_score</th>\n",
       "      <th>mse_score</th>\n",
       "      <th>rmse_score</th>\n",
       "    </tr>\n",
       "  </thead>\n",
       "  <tbody>\n",
       "    <tr>\n",
       "      <th>7</th>\n",
       "      <td>test</td>\n",
       "      <td>LassoCV(alphas=array([  1.00000e-02,   1.00000...</td>\n",
       "      <td>lasso</td>\n",
       "      <td>scaled</td>\n",
       "      <td>0.712513</td>\n",
       "      <td>0.712513</td>\n",
       "      <td>18453.211976</td>\n",
       "      <td>1.607060e+09</td>\n",
       "      <td>40088.154505</td>\n",
       "    </tr>\n",
       "  </tbody>\n",
       "</table>\n",
       "</div>"
      ],
      "text/plain": [
       "  dataset                                              model   name  \\\n",
       "7    test  LassoCV(alphas=array([  1.00000e-02,   1.00000...  lasso   \n",
       "\n",
       "  preprocessing     score  r2_score     mae_score     mse_score    rmse_score  \n",
       "7        scaled  0.712513  0.712513  18453.211976  1.607060e+09  40088.154505  "
      ]
     },
     "execution_count": 80,
     "metadata": {},
     "output_type": "execute_result"
    }
   ],
   "source": [
    "best_mae"
   ]
  },
  {
   "cell_type": "code",
   "execution_count": 81,
   "metadata": {},
   "outputs": [
    {
     "data": {
      "text/html": [
       "<div>\n",
       "<table border=\"1\" class=\"dataframe\">\n",
       "  <thead>\n",
       "    <tr style=\"text-align: right;\">\n",
       "      <th></th>\n",
       "      <th>dataset</th>\n",
       "      <th>model</th>\n",
       "      <th>name</th>\n",
       "      <th>preprocessing</th>\n",
       "      <th>score</th>\n",
       "      <th>r2_score</th>\n",
       "      <th>mae_score</th>\n",
       "      <th>mse_score</th>\n",
       "      <th>rmse_score</th>\n",
       "    </tr>\n",
       "  </thead>\n",
       "  <tbody>\n",
       "    <tr>\n",
       "      <th>1</th>\n",
       "      <td>test</td>\n",
       "      <td>RidgeCV(alphas=array([  1.00000e-02,   1.00000...</td>\n",
       "      <td>ridge</td>\n",
       "      <td>raw</td>\n",
       "      <td>0.736981</td>\n",
       "      <td>0.736981</td>\n",
       "      <td>20098.231806</td>\n",
       "      <td>1.470287e+09</td>\n",
       "      <td>38344.324104</td>\n",
       "    </tr>\n",
       "  </tbody>\n",
       "</table>\n",
       "</div>"
      ],
      "text/plain": [
       "  dataset                                              model   name  \\\n",
       "1    test  RidgeCV(alphas=array([  1.00000e-02,   1.00000...  ridge   \n",
       "\n",
       "  preprocessing     score  r2_score     mae_score     mse_score    rmse_score  \n",
       "1           raw  0.736981  0.736981  20098.231806  1.470287e+09  38344.324104  "
      ]
     },
     "execution_count": 81,
     "metadata": {},
     "output_type": "execute_result"
    }
   ],
   "source": [
    "best_mse"
   ]
  },
  {
   "cell_type": "code",
   "execution_count": 82,
   "metadata": {},
   "outputs": [
    {
     "data": {
      "text/html": [
       "<div>\n",
       "<table border=\"1\" class=\"dataframe\">\n",
       "  <thead>\n",
       "    <tr style=\"text-align: right;\">\n",
       "      <th></th>\n",
       "      <th>dataset</th>\n",
       "      <th>model</th>\n",
       "      <th>name</th>\n",
       "      <th>preprocessing</th>\n",
       "      <th>score</th>\n",
       "      <th>r2_score</th>\n",
       "      <th>mae_score</th>\n",
       "      <th>mse_score</th>\n",
       "      <th>rmse_score</th>\n",
       "    </tr>\n",
       "  </thead>\n",
       "  <tbody>\n",
       "    <tr>\n",
       "      <th>1</th>\n",
       "      <td>test</td>\n",
       "      <td>RidgeCV(alphas=array([  1.00000e-02,   1.00000...</td>\n",
       "      <td>ridge</td>\n",
       "      <td>raw</td>\n",
       "      <td>0.736981</td>\n",
       "      <td>0.736981</td>\n",
       "      <td>20098.231806</td>\n",
       "      <td>1.470287e+09</td>\n",
       "      <td>38344.324104</td>\n",
       "    </tr>\n",
       "  </tbody>\n",
       "</table>\n",
       "</div>"
      ],
      "text/plain": [
       "  dataset                                              model   name  \\\n",
       "1    test  RidgeCV(alphas=array([  1.00000e-02,   1.00000...  ridge   \n",
       "\n",
       "  preprocessing     score  r2_score     mae_score     mse_score    rmse_score  \n",
       "1           raw  0.736981  0.736981  20098.231806  1.470287e+09  38344.324104  "
      ]
     },
     "execution_count": 82,
     "metadata": {},
     "output_type": "execute_result"
    }
   ],
   "source": [
    "best_rmse"
   ]
  },
  {
   "cell_type": "markdown",
   "metadata": {},
   "source": [
    "## Explain the bias / variance tradeoff\n",
    "\n",
    "Why do regularized models perform better on your test set?"
   ]
  },
  {
   "cell_type": "markdown",
   "metadata": {
    "collapsed": true
   },
   "source": [
    "Bias is, roughly, how appropriate the complexity of your model is for the data that you are dealing with. If your bias is high, your model is likely insufficiently complex.\n",
    "\n",
    "Variance is, roughly, how much variation there will be between a pair of models that you create when you fit them to different samples of the relevant data. Often, more flexible models - which are more complex - are also higher in variance.\n",
    "\n",
    "The goal is thus to make a sufficiently complex (i.e. low in bias) model which is still low in variance. Ideally, one will make a model which has the perfect amount of complexity for the dataset at hand. If so, it will generally predict well and won't vary significantly if refitted for new data because the trend of the data it's fitted to will match the original data's trend.\n",
    "\n",
    "Regularized models perform better on your test set than unregularized models because their variance is reduced. This variance occurs due to overfitting to the original dataset - i.e. they're made with too much sensitivity to all of the variations in the dataset. Regularizing the model that results from this will generally keep the trends, the gist of what the data is saying. Generally speaking, this occurs by reducing the attention paid to some features or eliminating them entirely. An article I read described regularizing as hitting your computer with a hammer so that it's stupid enough that it can only retain the things that actually matter. A more cliched way of looking at it is that regularization is helping someone see the forest from the trees."
   ]
  },
  {
   "cell_type": "markdown",
   "metadata": {},
   "source": [
    "### Interpreting coefficients\n",
    "\n",
    "For your best model, \n",
    "\n",
    "* plot relevant coefficients using the `plot_coef` functoin.\n"
   ]
  },
  {
   "cell_type": "code",
   "execution_count": 75,
   "metadata": {},
   "outputs": [],
   "source": [
    "def plot_coef(model, top_n = 10):\n",
    "    '''\n",
    "    Plots the magnitude of top and bottom n coefficients\n",
    "    '''\n",
    "    cols = X_train.columns\n",
    "    coef = model.coef_\n",
    "    zipped = list(zip(cols, coef))\n",
    "    zipped.sort(key=lambda x: x[1], reverse = True)\n",
    "    top_10 = pd.DataFrame(zipped).head(top_n)\n",
    "    bottom_10 = pd.DataFrame(zipped).tail(top_n)\n",
    "    return pd.concat([top_10, bottom_10], axis=0).plot.barh(x = 0, y = 1)"
   ]
  },
  {
   "cell_type": "markdown",
   "metadata": {},
   "source": [
    "#### Plot your coefficients."
   ]
  },
  {
   "cell_type": "code",
   "execution_count": 83,
   "metadata": {},
   "outputs": [
    {
     "data": {
      "text/plain": [
       "1    Axes(0.125,0.125;0.775x0.755)\n",
       "Name: model, dtype: object"
      ]
     },
     "execution_count": 83,
     "metadata": {},
     "output_type": "execute_result"
    },
    {
     "data": {
      "image/png": "[encoded data removed]",
      "text/plain": [
       "<matplotlib.figure.Figure at 0x7fb7d156d4a8>"
      ]
     },
     "metadata": {},
     "output_type": "display_data"
    }
   ],
   "source": [
    "best_r2['model'].apply(plot_coef)"
   ]
  },
  {
   "cell_type": "code",
   "execution_count": 84,
   "metadata": {},
   "outputs": [
    {
     "data": {
      "text/plain": [
       "7    Axes(0.125,0.125;0.775x0.755)\n",
       "Name: model, dtype: object"
      ]
     },
     "execution_count": 84,
     "metadata": {},
     "output_type": "execute_result"
    },
    {
     "data": {
      "image/png": "[encoded data removed]",
      "text/plain": [
       "<matplotlib.figure.Figure at 0x7fb7d1416b00>"
      ]
     },
     "metadata": {},
     "output_type": "display_data"
    }
   ],
   "source": [
    "best_mae['model'].apply(plot_coef)"
   ]
  },
  {
   "cell_type": "markdown",
   "metadata": {},
   "source": [
    "#### Which features add / take away most value from a home?"
   ]
  },
  {
   "cell_type": "markdown",
   "metadata": {
    "collapsed": true
   },
   "source": [
    "Having a high overall quality (of 8&9) is adds the most value, followed by being in the Northridge Heights neighborhood. Less important are having a good quality fireplace, having wood shingles, being in the Crawford neighborhood, having excellent external quality, etc.\n",
    "\n",
    "Weirdly enough, having 12 rooms above ground takes away the most value. After that, people apparently dislike clay tile roofs, excellent pools, being in the C class of MSZoning, and having a cement exterior. The first three might be features that I should have engineered or removed, however. They are unlikely to affect my valuation of a house much less, in the case of the pools, decrease it."
   ]
  },
  {
   "cell_type": "markdown",
   "metadata": {},
   "source": [
    "# (Optional) Informing Business Value\n",
    "\n",
    "Interpreting our work for a non-technical audience is a vital skill that every good Data Scientist must cultivate.  At the end of the day, our work must be informative to business process so connecting our detailed efforts to a high level strategy is critical.\n",
    "\n",
    "We've established a few businesses cases that you should assert some explanation and advise best strategy through a model of your choice.  Also call out any exploratory analysis and reasoning for any recommendation.\n",
    "\n",
    "##### For each question:\n",
    "* Plot relevant data\n",
    "* Fit a new model or use a previous  model\n",
    "* Plot relevant coefficients\n"
   ]
  },
  {
   "cell_type": "markdown",
   "metadata": {},
   "source": [
    "#### (Optional) Case 1: Which features add / take away most value from a home?\n",
    "\n",
    "You just explained which coeffients add / take away most value, technically, but can you explain this in a non-technical manner?  Also, emphasize _why_ in your explanation.\n",
    "\n",
    "- Choose a few examples and explain why the coefficients describe the target value of the property."
   ]
  },
  {
   "cell_type": "code",
   "execution_count": null,
   "metadata": {},
   "outputs": [],
   "source": []
  },
  {
   "cell_type": "markdown",
   "metadata": {},
   "source": [
    "#### (Optional) Case 2: Can you identify any abnormally priced houses?\n",
    "We might consider these being properties that are over or under predicted by price. Can you make sense of when and why these are over and under predicted?"
   ]
  },
  {
   "cell_type": "code",
   "execution_count": null,
   "metadata": {},
   "outputs": [],
   "source": []
  },
  {
   "cell_type": "markdown",
   "metadata": {},
   "source": [
    "#### (Optional) Case 3:  Which houses are good investments?\n",
    "\n",
    "Which criteria would you look at?  How sure can you be of your assumptions?  Give precise metrics but also give a concise recommendation that is non-technical that communicates the risks of your anlaysis."
   ]
  },
  {
   "cell_type": "code",
   "execution_count": null,
   "metadata": {},
   "outputs": [],
   "source": []
  },
  {
   "cell_type": "markdown",
   "metadata": {},
   "source": [
    "#### (Optional) Case 4:  Which houses are good investments (extended)?\n",
    "One idea that is common in the real-estate invement community is called \"flipping\".  This usually entails buying a property with \"changable\" charactaristics that can be upgraded.  Examples of changable or \"upgradable\" features include:  A garage, a kitchen, etc.\n",
    "\n",
    "Can you give us an idea of investments opportunities considering \"upgradable\" features?  You will have to explore this idea on your own and possibly do a little research for subject matter expertise.\n",
    "\n",
    "- Some features of a house are worth more than others\n",
    "- Some features can't be upgraded (ie: square footage)"
   ]
  },
  {
   "cell_type": "code",
   "execution_count": null,
   "metadata": {},
   "outputs": [],
   "source": []
  }
 ],
 "metadata": {
  "kernelspec": {
   "display_name": "Python 3",
   "language": "python",
   "name": "python3"
  },
  "language_info": {
   "codemirror_mode": {
    "name": "ipython",
    "version": 3
   },
   "file_extension": ".py",
   "mimetype": "text/x-python",
   "name": "python",
   "nbconvert_exporter": "python",
   "pygments_lexer": "ipython3",
   "version": "3.6.2"
  }
 },
 "nbformat": 4,
 "nbformat_minor": 2
}
